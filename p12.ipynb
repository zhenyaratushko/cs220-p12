{
 "cells": [
  {
   "cell_type": "code",
   "execution_count": 1,
   "id": "31b738ff",
   "metadata": {
    "cell_type": "code",
    "deletable": false,
    "editable": false
   },
   "outputs": [],
   "source": [
    "import otter\n",
    "# nb_name should be the name of your notebook without the .ipynb extension\n",
    "nb_name = \"p12\"\n",
    "py_filename = nb_name + \".py\"\n",
    "grader = otter.Notebook(nb_name + \".ipynb\")"
   ]
  },
  {
   "cell_type": "code",
   "execution_count": 2,
   "id": "89c21d41",
   "metadata": {
    "deletable": false,
    "editable": false
   },
   "outputs": [],
   "source": [
    "import p12_test"
   ]
  },
  {
   "cell_type": "code",
   "execution_count": 3,
   "id": "28de6324",
   "metadata": {},
   "outputs": [],
   "source": [
    "# PLEASE FILL IN THE DETAILS\n",
    "# Enter none if you don't have a project partner\n",
    "# You will have to add your partner as a group member on Gradescope even after you fill this\n",
    "\n",
    "# project: p12\n",
    "# submitter: ppopuri\n",
    "# partner: ratushko"
   ]
  },
  {
   "cell_type": "markdown",
   "id": "b58d82b9",
   "metadata": {
    "deletable": false,
    "editable": false
   },
   "source": [
    "# Project 12: World University Rankings"
   ]
  },
  {
   "cell_type": "markdown",
   "id": "6963f103",
   "metadata": {
    "deletable": false,
    "editable": false
   },
   "source": [
    "## Learning Objectives:\n",
    "\n",
    "In this project, you will demonstrate your ability to\n",
    "\n",
    "* read and write files,\n",
    "* create and use `Pandas DataFrames`,\n",
    "* use `BeautifulSoup` to parse web pages.\n",
    "\n",
    "Please go through [lab-p12](https://git.doit.wisc.edu/cdis/cs/courses/cs220/cs220-f22-projects/-/tree/main/lab-p12) before working on this project. The lab introduces some useful techniques related to this project."
   ]
  },
  {
   "cell_type": "markdown",
   "id": "1ba93fdb",
   "metadata": {
    "deletable": false,
    "editable": false
   },
   "source": [
    "## Note on Academic Misconduct:\n",
    "\n",
    "**IMPORTANT**: p12 and p13 are two parts of the same data analysis. You **cannot** switch project partners between these two projects. That is if you partner up with someone for p12, you have to sustain that partnership until the end of p13. Now may be a good time to review [our course policies](https://cs220.cs.wisc.edu/f22/syllabus.html)."
   ]
  },
  {
   "cell_type": "markdown",
   "id": "7203bda8",
   "metadata": {
    "deletable": false,
    "editable": false
   },
   "source": [
    "## Testing your code:\n",
    "\n",
    "Along with this notebook, you must have downloaded the file `p12_test.py`. If you are curious about how we test your code, you can explore this file, and specifically the value of the variable `expected_json`, to understand the expected answers to the questions.\n",
    "\n",
    "For answers involving DataFrames, `p12_test.py` compares your tables to those in `p12_expected.html`, so take a moment to open that file on a web browser (from Finder/Explorer).\n",
    "\n",
    "`p12_test.py` doesn't care if you have extra rows or columns, and it doesn't care about the order of the rows or columns. However, you must have the correct values at each index/column location shown in `p12_expected.html`."
   ]
  },
  {
   "cell_type": "markdown",
   "id": "5a4464ca",
   "metadata": {
    "deletable": false,
    "editable": false
   },
   "source": [
    "## Introduction:\n",
    "\n",
    "For this project, you're going to analyze World University Rankings!\n",
    "\n",
    "Specifically, you're going to use Pandas to analyze various statistics of the top ranked universities across the world, over the last three years.\n",
    "\n",
    "Start by downloading the files `p12_test.py`, and `p12_expected.html`.\n",
    "\n",
    "**Important Warning:** Do **not** download any of the other files manually (you **must** write Python code to download these automatically, as in lab-p12). When we run the autograder, the other files such as `rankings.json`, `2019-2020.html`, `2020-2021.html`, `2021-2022.html` will **not** be in the directory. So, unless your `p12.ipynb` downloads these files, you will get a **zero score** on the project. More details can be found in the **Setup** section of the project."
   ]
  },
  {
   "cell_type": "markdown",
   "id": "f4560d57",
   "metadata": {
    "deletable": false,
    "editable": false
   },
   "source": [
    "## Data:\n",
    "\n",
    "For this project, we will be analyzing statistics about world university rankings adapted from [here](https://cwur.org/). These are the specific webpages that we extracted the data from:\n",
    "\n",
    "* https://cwur.org/2019-20.php\n",
    "* https://cwur.org/2020-21.php\n",
    "* https://cwur.org/2021-22.php\n",
    "\n",
    "Later in the project, you will be scraping these webpages and extracting the data yourself. Since we don't want all of you bombarding these webpages with requests, we have made snapshots of these webpages, and hosted them on GitHub. You can find the snapshots here:\n",
    "\n",
    "* https://git.doit.wisc.edu/cdis/cs/courses/cs220/cs220-f22-projects/-/raw/main/p12/2019-2020.html\n",
    "* https://git.doit.wisc.edu/cdis/cs/courses/cs220/cs220-f22-projects/-/raw/main/p12/2020-2021.html\n",
    "* https://git.doit.wisc.edu/cdis/cs/courses/cs220/cs220-f22-projects/-/raw/main/p12/2021-2022.html\n",
    "\n",
    "You will be extracting the data from these three html pages and analyzing them. However, to make the start of the project a little easier, we have already parsed the files for you! We have gathered the data from these html files, and collected them in a single json file, which can be found here:\n",
    "\n",
    "* https://git.doit.wisc.edu/cdis/cs/courses/cs220/cs220-f22-projects/-/raw/main/p12/rankings.json\n",
    "\n",
    "You will work with this json file for most of this project. At the end of this project, you will generate an identical json file by parsing the html files yourself."
   ]
  },
  {
   "cell_type": "markdown",
   "id": "23c3c15c",
   "metadata": {
    "deletable": false,
    "editable": false
   },
   "source": [
    "## Project Requirements:\n",
    "\n",
    "You **may not** hardcode indices in your code. You **may not** manually download **any** files for this project, unless you are **explicitly** told to do so. For all other files, you **must** use the `download` function to download the files.\n",
    "\n",
    "**Store** your final answer for each question in the **variable specified for each question**. This step is important because Otter grades your work by comparing the value of this variable against the correct answer.\n",
    "\n",
    "For some of the questions, we'll ask you to write (then use) a function to compute the answer. If you compute the answer **without** creating the function we ask you to write, we'll **manually deduct** points from your autograder score on Gradescope, even if the way you did it produced the correct answer.\n",
    "\n",
    "Required Functions:\n",
    "- `download`\n",
    "- `parse_html`\n",
    "\n",
    "In this project, you will also be required to define certain **data structures**. If you do not create these data structures exactly as specified, we'll **manually deduct** points from your autograder score on Gradescope, even if the way you did it produced the correct answer.\n",
    "\n",
    "Required Data Structures:\n",
    "- `institutions_df`\n",
    "\n",
    "In addition, you are also **required** to follow the requirements below:\n",
    "* **Avoid using loops to iterate over pandas dataframes and instead use boolean indexing.**\n",
    "* Do **not** use `loc` to look up data in **DataFrames** or **Series**. You are **allowed** to use `iloc`.\n",
    "* Do **not** use **absolute** paths such as `C://ms//cs220//p12`. You may **only** use **relative paths**.\n",
    "* Do **not** use meaningless names for variables or functions (e.g. `uuu = \"my name\"`).\n",
    "* Do **not** leave irrelevant output or test code that we didn't ask for.\n",
    "* Do **not** write the exact same code in multiple places. Instead, wrap this code into a function and call that function whenever the code should be used.\n",
    "* Do **not** call unnecessary functions.\n",
    "* **Avoid** calling **slow** functions multiple times within a loop.\n",
    "* **Avoid** inappropriate use of data structures. For instance: do **not** use a `for` loop to search for a corresponding value in a dictionary with a given key; instead use `dictname[key]` directly.\n",
    "* Do **not** define multiple functions with the same name or define multiple versions of one function with different names. Just keep the best version.\n",
    "\n",
    "For more details on what will cause you to lose points during code review and specific requirements, please take a look at the [Grading rubric](https://git.doit.wisc.edu/cdis/cs/courses/cs220/cs220-f22-projects/-/blob/main/p12/rubric.md)."
   ]
  },
  {
   "cell_type": "markdown",
   "id": "e3b2a190",
   "metadata": {
    "deletable": false,
    "editable": false
   },
   "source": [
    "# Questions and Functions:\n",
    "\n",
    "Let us start by importing all the modules we will need for this project."
   ]
  },
  {
   "cell_type": "code",
   "execution_count": 4,
   "id": "76f9a202",
   "metadata": {
    "tags": []
   },
   "outputs": [],
   "source": [
    "# it is considered a good coding practice to place all import statements at the top of the notebook\n",
    "# please place all your import statements in this cell if you need to import any more modules for this project\n",
    "import requests\n",
    "import os\n",
    "import json\n",
    "import pandas as pd\n",
    "from bs4 import BeautifulSoup"
   ]
  },
  {
   "cell_type": "markdown",
   "id": "7715840a",
   "metadata": {
    "deletable": false,
    "editable": false
   },
   "source": [
    "### Function 1: `download(page, filename)`\n",
    "\n",
    "You **must** now copy/paste the `download` function from lab-p12. This function **must** extract the data in the webpage `page` and store it in `filename`. If the `filename` already exists, it **must not** download the file again."
   ]
  },
  {
   "cell_type": "code",
   "execution_count": 5,
   "id": "6f0b294b",
   "metadata": {
    "tags": []
   },
   "outputs": [],
   "source": [
    "# copy/paste the 'download' function from lab-p12\n",
    "def download(filename, url):\n",
    "    if os.path.exists(filename):\n",
    "        return (str(filename) + \" already exists!\")\n",
    "    try:\n",
    "        r = requests.get(url)\n",
    "        r.raise_for_status()\n",
    "        file_text = r.text\n",
    "    except:\n",
    "         print(\"HTTPError: Status code not 200\")\n",
    "    file = open(filename, \"w\", encoding='utf-8')\n",
    "    file.write(file_text)\n",
    "    file.close()  \n",
    "    return (str(filename) + \" created!\")"
   ]
  },
  {
   "cell_type": "markdown",
   "id": "82d7cc41",
   "metadata": {
    "deletable": false,
    "editable": false
   },
   "source": [
    "Now, use `download` to pull the data from here (**do not manually download**): https://git.doit.wisc.edu/cdis/cs/courses/cs220/cs220-f22-projects/-/raw/main/p12/rankings.json and store it in the file `rankings.json`. Once you have created the file, create a Dataframe `rankings` from this file.\n",
    "\n",
    "**Warning:** Make sure your `download` function meets the specifications mentioned in lab-p12 and does **not** download the file if it already exists. The TAs will **manually deduct** points otherwise. Make sure you use the `download` function to pull the data instead of manually downloading the files. Otherwise you will get a zero."
   ]
  },
  {
   "cell_type": "code",
   "execution_count": 6,
   "id": "890682ef",
   "metadata": {
    "tags": []
   },
   "outputs": [],
   "source": [
    "# use the 'download' function to download the data from the webpage\n",
    "# 'https://git.doit.wisc.edu/cdis/cs/courses/cs220/cs220-f22-projects/-/raw/main/p12/rankings.json'\n",
    "# to the file 'rankings.json'\n",
    "rankings_url = \"https://git.doit.wisc.edu/cdis/cs/courses/cs220/cs220-f22-projects/-/raw/main/p12/rankings.json\"\n",
    "\n",
    "if os.path.exists(\"rankings.json\"):\n",
    "    os.remove(\"rankings.json\")\n",
    "\n",
    "assert download(\"rankings.json\", rankings_url) == \"rankings.json created!\"\n",
    "assert(os.path.exists(\"rankings.json\"))\n",
    "assert(os.path.getsize(\"rankings.json\") > 1600000 and os.path.getsize(\"rankings.json\") < 2500000)\n",
    "\n",
    "f = open(\"rankings.json\", \"w\") # rewrite the contents of the file\n",
    "f.close()\n",
    "assert (download(\"rankings.json\",rankings_url) == \"rankings.json already exists!\" )\n",
    "assert(os.path.getsize(\"rankings.json\") == 0) # check that the file was not redownloaded\n",
    "os.remove(\"rankings.json\")\n",
    "assert download(\"rankings.json\", rankings_url) == \"rankings.json created!\""
   ]
  },
  {
   "cell_type": "code",
   "execution_count": 7,
   "id": "2bd2a73a",
   "metadata": {
    "tags": []
   },
   "outputs": [
    {
     "data": {
      "text/html": [
       "<div>\n",
       "<style scoped>\n",
       "    .dataframe tbody tr th:only-of-type {\n",
       "        vertical-align: middle;\n",
       "    }\n",
       "\n",
       "    .dataframe tbody tr th {\n",
       "        vertical-align: top;\n",
       "    }\n",
       "\n",
       "    .dataframe thead th {\n",
       "        text-align: right;\n",
       "    }\n",
       "</style>\n",
       "<table border=\"1\" class=\"dataframe\">\n",
       "  <thead>\n",
       "    <tr style=\"text-align: right;\">\n",
       "      <th></th>\n",
       "      <th>World Rank</th>\n",
       "      <th>Year</th>\n",
       "      <th>Institution</th>\n",
       "      <th>Country</th>\n",
       "      <th>National Rank</th>\n",
       "      <th>Quality of Education Rank</th>\n",
       "      <th>Alumni Employment Rank</th>\n",
       "      <th>Quality of Faculty Rank</th>\n",
       "      <th>Research Performance Rank</th>\n",
       "      <th>Score</th>\n",
       "    </tr>\n",
       "  </thead>\n",
       "  <tbody>\n",
       "    <tr>\n",
       "      <th>0</th>\n",
       "      <td>1</td>\n",
       "      <td>2019-2020</td>\n",
       "      <td>Harvard University</td>\n",
       "      <td>USA</td>\n",
       "      <td>1</td>\n",
       "      <td>2.0</td>\n",
       "      <td>1.0</td>\n",
       "      <td>1.0</td>\n",
       "      <td>1.0</td>\n",
       "      <td>100.0</td>\n",
       "    </tr>\n",
       "    <tr>\n",
       "      <th>1</th>\n",
       "      <td>2</td>\n",
       "      <td>2019-2020</td>\n",
       "      <td>Massachusetts Institute of Technology</td>\n",
       "      <td>USA</td>\n",
       "      <td>2</td>\n",
       "      <td>1.0</td>\n",
       "      <td>10.0</td>\n",
       "      <td>2.0</td>\n",
       "      <td>5.0</td>\n",
       "      <td>96.7</td>\n",
       "    </tr>\n",
       "    <tr>\n",
       "      <th>2</th>\n",
       "      <td>3</td>\n",
       "      <td>2019-2020</td>\n",
       "      <td>Stanford University</td>\n",
       "      <td>USA</td>\n",
       "      <td>3</td>\n",
       "      <td>9.0</td>\n",
       "      <td>3.0</td>\n",
       "      <td>3.0</td>\n",
       "      <td>2.0</td>\n",
       "      <td>95.2</td>\n",
       "    </tr>\n",
       "    <tr>\n",
       "      <th>3</th>\n",
       "      <td>4</td>\n",
       "      <td>2019-2020</td>\n",
       "      <td>University of Cambridge</td>\n",
       "      <td>United Kingdom</td>\n",
       "      <td>1</td>\n",
       "      <td>4.0</td>\n",
       "      <td>19.0</td>\n",
       "      <td>5.0</td>\n",
       "      <td>11.0</td>\n",
       "      <td>94.1</td>\n",
       "    </tr>\n",
       "    <tr>\n",
       "      <th>4</th>\n",
       "      <td>5</td>\n",
       "      <td>2019-2020</td>\n",
       "      <td>University of Oxford</td>\n",
       "      <td>United Kingdom</td>\n",
       "      <td>2</td>\n",
       "      <td>10.0</td>\n",
       "      <td>24.0</td>\n",
       "      <td>10.0</td>\n",
       "      <td>4.0</td>\n",
       "      <td>93.3</td>\n",
       "    </tr>\n",
       "  </tbody>\n",
       "</table>\n",
       "</div>"
      ],
      "text/plain": [
       "   World Rank       Year                            Institution  \\\n",
       "0           1  2019-2020                     Harvard University   \n",
       "1           2  2019-2020  Massachusetts Institute of Technology   \n",
       "2           3  2019-2020                    Stanford University   \n",
       "3           4  2019-2020                University of Cambridge   \n",
       "4           5  2019-2020                   University of Oxford   \n",
       "\n",
       "          Country  National Rank  Quality of Education Rank  \\\n",
       "0             USA              1                        2.0   \n",
       "1             USA              2                        1.0   \n",
       "2             USA              3                        9.0   \n",
       "3  United Kingdom              1                        4.0   \n",
       "4  United Kingdom              2                       10.0   \n",
       "\n",
       "   Alumni Employment Rank  Quality of Faculty Rank  Research Performance Rank  \\\n",
       "0                     1.0                      1.0                        1.0   \n",
       "1                    10.0                      2.0                        5.0   \n",
       "2                     3.0                      3.0                        2.0   \n",
       "3                    19.0                      5.0                       11.0   \n",
       "4                    24.0                     10.0                        4.0   \n",
       "\n",
       "   Score  \n",
       "0  100.0  \n",
       "1   96.7  \n",
       "2   95.2  \n",
       "3   94.1  \n",
       "4   93.3  "
      ]
     },
     "execution_count": 7,
     "metadata": {},
     "output_type": "execute_result"
    }
   ],
   "source": [
    "# open 'rankings.json' with pd.read_json('rankings.json') and store in the variable 'rankings'\n",
    "rankings = pd.read_json('rankings.json')\n",
    "rankings.head()"
   ]
  },
  {
   "cell_type": "markdown",
   "id": "7d45203e",
   "metadata": {
    "deletable": false,
    "editable": false
   },
   "source": [
    "**Question 1:** How **many** countries do we have in our dataset?\n",
    "\n",
    "Your output **must** be an **int** representing the number of *unique* countries in the dataset."
   ]
  },
  {
   "cell_type": "code",
   "execution_count": 8,
   "id": "289c0d7f",
   "metadata": {
    "tags": []
   },
   "outputs": [
    {
     "data": {
      "text/plain": [
       "103"
      ]
     },
     "execution_count": 8,
     "metadata": {},
     "output_type": "execute_result"
    }
   ],
   "source": [
    "# compute and store the answer in the variable 'num_countries', then display it\n",
    "num_countries = pd.Series(rankings[\"Country\"])\n",
    "num_countries = len(num_countries.value_counts())\n",
    "num_countries"
   ]
  },
  {
   "cell_type": "code",
   "execution_count": 9,
   "id": "52da9eeb",
   "metadata": {
    "deletable": false,
    "editable": false
   },
   "outputs": [
    {
     "data": {
      "text/html": [
       "<p><strong><pre style='display: inline;'>q1</pre></strong> passed!</p>"
      ],
      "text/plain": [
       "q1 results: All test cases passed!"
      ]
     },
     "execution_count": 9,
     "metadata": {},
     "output_type": "execute_result"
    }
   ],
   "source": [
    "grader.check(\"q1\")"
   ]
  },
  {
   "cell_type": "markdown",
   "id": "9c11fe89",
   "metadata": {
    "deletable": false,
    "editable": false
   },
   "source": [
    "**Question 2:** Generate a `pandas` **DataFrame** containing **all** the statistics of the **highest-ranked** institution based on `World Rank` across all the years.\n",
    "\n",
    "Your output **must** be a pandas **DataFrame** with 3 rows and 10 columns. It **must** contain all the data for the institutions with `World Rank` of *1*. It **must** look like this:"
   ]
  },
  {
   "attachments": {
    "highest_ranked.PNG": {
     "image/png": "[encoded data removed]"
    }
   },
   "cell_type": "markdown",
   "id": "001df536",
   "metadata": {},
   "source": [
    "<div><img src=\"attachment:highest_ranked.PNG\" width=\"1000\"/></div>"
   ]
  },
  {
   "cell_type": "code",
   "execution_count": 10,
   "id": "ba5641c2",
   "metadata": {
    "tags": []
   },
   "outputs": [
    {
     "data": {
      "text/html": [
       "<div>\n",
       "<style scoped>\n",
       "    .dataframe tbody tr th:only-of-type {\n",
       "        vertical-align: middle;\n",
       "    }\n",
       "\n",
       "    .dataframe tbody tr th {\n",
       "        vertical-align: top;\n",
       "    }\n",
       "\n",
       "    .dataframe thead th {\n",
       "        text-align: right;\n",
       "    }\n",
       "</style>\n",
       "<table border=\"1\" class=\"dataframe\">\n",
       "  <thead>\n",
       "    <tr style=\"text-align: right;\">\n",
       "      <th></th>\n",
       "      <th>World Rank</th>\n",
       "      <th>Year</th>\n",
       "      <th>Institution</th>\n",
       "      <th>Country</th>\n",
       "      <th>National Rank</th>\n",
       "      <th>Quality of Education Rank</th>\n",
       "      <th>Alumni Employment Rank</th>\n",
       "      <th>Quality of Faculty Rank</th>\n",
       "      <th>Research Performance Rank</th>\n",
       "      <th>Score</th>\n",
       "    </tr>\n",
       "  </thead>\n",
       "  <tbody>\n",
       "    <tr>\n",
       "      <th>0</th>\n",
       "      <td>1</td>\n",
       "      <td>2019-2020</td>\n",
       "      <td>Harvard University</td>\n",
       "      <td>USA</td>\n",
       "      <td>1</td>\n",
       "      <td>2.0</td>\n",
       "      <td>1.0</td>\n",
       "      <td>1.0</td>\n",
       "      <td>1.0</td>\n",
       "      <td>100.0</td>\n",
       "    </tr>\n",
       "    <tr>\n",
       "      <th>2000</th>\n",
       "      <td>1</td>\n",
       "      <td>2020-2021</td>\n",
       "      <td>Harvard University</td>\n",
       "      <td>USA</td>\n",
       "      <td>1</td>\n",
       "      <td>3.0</td>\n",
       "      <td>1.0</td>\n",
       "      <td>1.0</td>\n",
       "      <td>1.0</td>\n",
       "      <td>100.0</td>\n",
       "    </tr>\n",
       "    <tr>\n",
       "      <th>4000</th>\n",
       "      <td>1</td>\n",
       "      <td>2021-2022</td>\n",
       "      <td>Harvard University</td>\n",
       "      <td>USA</td>\n",
       "      <td>1</td>\n",
       "      <td>1.0</td>\n",
       "      <td>1.0</td>\n",
       "      <td>1.0</td>\n",
       "      <td>1.0</td>\n",
       "      <td>100.0</td>\n",
       "    </tr>\n",
       "  </tbody>\n",
       "</table>\n",
       "</div>"
      ],
      "text/plain": [
       "      World Rank       Year         Institution Country  National Rank  \\\n",
       "0              1  2019-2020  Harvard University     USA              1   \n",
       "2000           1  2020-2021  Harvard University     USA              1   \n",
       "4000           1  2021-2022  Harvard University     USA              1   \n",
       "\n",
       "      Quality of Education Rank  Alumni Employment Rank  \\\n",
       "0                           2.0                     1.0   \n",
       "2000                        3.0                     1.0   \n",
       "4000                        1.0                     1.0   \n",
       "\n",
       "      Quality of Faculty Rank  Research Performance Rank  Score  \n",
       "0                         1.0                        1.0  100.0  \n",
       "2000                      1.0                        1.0  100.0  \n",
       "4000                      1.0                        1.0  100.0  "
      ]
     },
     "execution_count": 10,
     "metadata": {},
     "output_type": "execute_result"
    }
   ],
   "source": [
    "# compute and store the answer in the variable 'highest_ranked', then display it\n",
    "highest_ranked = rankings[(rankings[\"World Rank\"] == 1)].iloc[:3]\n",
    "highest_ranked"
   ]
  },
  {
   "cell_type": "code",
   "execution_count": 11,
   "id": "cc93e4dd",
   "metadata": {
    "deletable": false,
    "editable": false
   },
   "outputs": [
    {
     "data": {
      "text/html": [
       "<p><strong><pre style='display: inline;'>q2</pre></strong> passed!</p>"
      ],
      "text/plain": [
       "q2 results: All test cases passed!"
      ]
     },
     "execution_count": 11,
     "metadata": {},
     "output_type": "execute_result"
    }
   ],
   "source": [
    "grader.check(\"q2\")"
   ]
  },
  {
   "cell_type": "markdown",
   "id": "4912b1fd",
   "metadata": {
    "deletable": false,
    "editable": false
   },
   "source": [
    "**Question 3:** Generate a `pandas` **DataFrame** containing **all** the statistics of *University of Wisconsin–Madison*.\n",
    "\n",
    "Your output **must** be a pandas **DataFrame** with 3 rows and 10 columns. It **must** look like this:"
   ]
  },
  {
   "attachments": {
    "uw_madison.PNG": {
     "image/png": "[encoded data removed]"
    }
   },
   "cell_type": "markdown",
   "id": "e110fbd1",
   "metadata": {},
   "source": [
    "<div><img src=\"attachment:uw_madison.PNG\" width=\"1000\"/></div>"
   ]
  },
  {
   "cell_type": "code",
   "execution_count": 12,
   "id": "74d6d54f",
   "metadata": {
    "tags": []
   },
   "outputs": [
    {
     "data": {
      "text/html": [
       "<div>\n",
       "<style scoped>\n",
       "    .dataframe tbody tr th:only-of-type {\n",
       "        vertical-align: middle;\n",
       "    }\n",
       "\n",
       "    .dataframe tbody tr th {\n",
       "        vertical-align: top;\n",
       "    }\n",
       "\n",
       "    .dataframe thead th {\n",
       "        text-align: right;\n",
       "    }\n",
       "</style>\n",
       "<table border=\"1\" class=\"dataframe\">\n",
       "  <thead>\n",
       "    <tr style=\"text-align: right;\">\n",
       "      <th></th>\n",
       "      <th>World Rank</th>\n",
       "      <th>Year</th>\n",
       "      <th>Institution</th>\n",
       "      <th>Country</th>\n",
       "      <th>National Rank</th>\n",
       "      <th>Quality of Education Rank</th>\n",
       "      <th>Alumni Employment Rank</th>\n",
       "      <th>Quality of Faculty Rank</th>\n",
       "      <th>Research Performance Rank</th>\n",
       "      <th>Score</th>\n",
       "    </tr>\n",
       "  </thead>\n",
       "  <tbody>\n",
       "    <tr>\n",
       "      <th>24</th>\n",
       "      <td>25</td>\n",
       "      <td>2019-2020</td>\n",
       "      <td>University of Wisconsin–Madison</td>\n",
       "      <td>USA</td>\n",
       "      <td>19</td>\n",
       "      <td>28.0</td>\n",
       "      <td>80.0</td>\n",
       "      <td>35.0</td>\n",
       "      <td>27.0</td>\n",
       "      <td>87.3</td>\n",
       "    </tr>\n",
       "    <tr>\n",
       "      <th>2025</th>\n",
       "      <td>26</td>\n",
       "      <td>2020-2021</td>\n",
       "      <td>University of Wisconsin–Madison</td>\n",
       "      <td>USA</td>\n",
       "      <td>20</td>\n",
       "      <td>34.0</td>\n",
       "      <td>93.0</td>\n",
       "      <td>34.0</td>\n",
       "      <td>31.0</td>\n",
       "      <td>87.2</td>\n",
       "    </tr>\n",
       "    <tr>\n",
       "      <th>4024</th>\n",
       "      <td>25</td>\n",
       "      <td>2021-2022</td>\n",
       "      <td>University of Wisconsin–Madison</td>\n",
       "      <td>USA</td>\n",
       "      <td>19</td>\n",
       "      <td>33.0</td>\n",
       "      <td>97.0</td>\n",
       "      <td>29.0</td>\n",
       "      <td>32.0</td>\n",
       "      <td>87.3</td>\n",
       "    </tr>\n",
       "  </tbody>\n",
       "</table>\n",
       "</div>"
      ],
      "text/plain": [
       "      World Rank       Year                      Institution Country  \\\n",
       "24            25  2019-2020  University of Wisconsin–Madison     USA   \n",
       "2025          26  2020-2021  University of Wisconsin–Madison     USA   \n",
       "4024          25  2021-2022  University of Wisconsin–Madison     USA   \n",
       "\n",
       "      National Rank  Quality of Education Rank  Alumni Employment Rank  \\\n",
       "24               19                       28.0                    80.0   \n",
       "2025             20                       34.0                    93.0   \n",
       "4024             19                       33.0                    97.0   \n",
       "\n",
       "      Quality of Faculty Rank  Research Performance Rank  Score  \n",
       "24                       35.0                       27.0   87.3  \n",
       "2025                     34.0                       31.0   87.2  \n",
       "4024                     29.0                       32.0   87.3  "
      ]
     },
     "execution_count": 12,
     "metadata": {},
     "output_type": "execute_result"
    }
   ],
   "source": [
    "# compute and store the answer in the variable 'uw_madison', then display it\n",
    "uw_madison = rankings[(rankings[\"Institution\"] == \"University of Wisconsin–Madison\")].iloc[:3]\n",
    "uw_madison"
   ]
  },
  {
   "cell_type": "code",
   "execution_count": 13,
   "id": "564db002",
   "metadata": {
    "deletable": false,
    "editable": false
   },
   "outputs": [
    {
     "data": {
      "text/html": [
       "<p><strong><pre style='display: inline;'>q3</pre></strong> passed!</p>"
      ],
      "text/plain": [
       "q3 results: All test cases passed!"
      ]
     },
     "execution_count": 13,
     "metadata": {},
     "output_type": "execute_result"
    }
   ],
   "source": [
    "grader.check(\"q3\")"
   ]
  },
  {
   "cell_type": "markdown",
   "id": "418a43c6",
   "metadata": {
    "deletable": false,
    "editable": false
   },
   "source": [
    "**Question 4:** What is the `National Rank` of the *University of Wisconsin–Madison* in the `Year` *2021-2022*?\n",
    "\n",
    "Your output **must** be an **int**. You **must** use **Boolean indexing** on the variable `uw_madison` to answer this question.\n",
    "\n",
    "**Hint:** Use Boolean indexing on the DataFrame `uw_madison` to find the data for the year `2021-2022`. You may then extract the `National Rank` column from the subset DataFrame. Finally, use `iloc` to lookup the value in the DataFrame which contains only one row and one column."
   ]
  },
  {
   "cell_type": "code",
   "execution_count": 14,
   "id": "afa9a09e",
   "metadata": {
    "tags": []
   },
   "outputs": [
    {
     "data": {
      "text/plain": [
       "19"
      ]
     },
     "execution_count": 14,
     "metadata": {},
     "output_type": "execute_result"
    }
   ],
   "source": [
    "# compute and store the answer in the variable 'uw_madison_nat_rank', then display it\n",
    "uw_madison_rank = uw_madison[(uw_madison[\"Year\"] == \"2021-2022\")]\n",
    "uw_madison_nat_rank = uw_madison_rank[\"National Rank\"].iloc[0]\n",
    "uw_madison_nat_rank"
   ]
  },
  {
   "cell_type": "code",
   "execution_count": 15,
   "id": "7a385d86",
   "metadata": {
    "deletable": false,
    "editable": false
   },
   "outputs": [
    {
     "data": {
      "text/html": [
       "<p><strong><pre style='display: inline;'>q4</pre></strong> passed!</p>"
      ],
      "text/plain": [
       "q4 results: All test cases passed!"
      ]
     },
     "execution_count": 15,
     "metadata": {},
     "output_type": "execute_result"
    }
   ],
   "source": [
    "grader.check(\"q4\")"
   ]
  },
  {
   "cell_type": "markdown",
   "id": "ba14d14a",
   "metadata": {
    "deletable": false,
    "editable": false
   },
   "source": [
    "**Question 5:** What is the **average** `Score` of the *University of Wisconsin–Madison*?\n",
    "\n",
    "Your output **must** be a **float**. You **must** use the variable `uw_madison` to answer this question.\n",
    "\n",
    "**Hint:** You **must** extract the `Score` column of the **DataFrame** `uw_madison` as a **Series**. You can find the **average** of  all the scores in a **Series** with the `Series.mean` function."
   ]
  },
  {
   "cell_type": "code",
   "execution_count": 16,
   "id": "b16696cd",
   "metadata": {
    "tags": []
   },
   "outputs": [
    {
     "data": {
      "text/plain": [
       "87.26666666666667"
      ]
     },
     "execution_count": 16,
     "metadata": {},
     "output_type": "execute_result"
    }
   ],
   "source": [
    "# compute and store the answer in the variable 'uw_madison_avg_score', then display it\n",
    "uw_madison_score = pd.Series(uw_madison[\"Score\"])\n",
    "uw_madison_avg_score = uw_madison_score.mean()\n",
    "uw_madison_avg_score"
   ]
  },
  {
   "cell_type": "code",
   "execution_count": 17,
   "id": "687804db",
   "metadata": {
    "deletable": false,
    "editable": false
   },
   "outputs": [
    {
     "data": {
      "text/html": [
       "<p><strong><pre style='display: inline;'>q5</pre></strong> passed!</p>"
      ],
      "text/plain": [
       "q5 results: All test cases passed!"
      ]
     },
     "execution_count": 17,
     "metadata": {},
     "output_type": "execute_result"
    }
   ],
   "source": [
    "grader.check(\"q5\")"
   ]
  },
  {
   "cell_type": "markdown",
   "id": "0ae45019",
   "metadata": {
    "deletable": false,
    "editable": false
   },
   "source": [
    "**Question 6:** Generate a `pandas` **DataFrame** containing **all** the statistics of universities from the `Country` *Singapore* in the `Year` *2020-2021*.\n",
    "\n",
    "Your output **must** be a pandas **DataFrame** with 4 rows and 10 columns. It **must** look like this:"
   ]
  },
  {
   "attachments": {
    "singapore_inst.PNG": {
     "image/png": "[encoded data removed]"
    }
   },
   "cell_type": "markdown",
   "id": "aff15cca",
   "metadata": {},
   "source": [
    "<div><img src=\"attachment:singapore_inst.PNG\" width=\"1000\"/></div>"
   ]
  },
  {
   "cell_type": "markdown",
   "id": "bdbee39d",
   "metadata": {
    "deletable": false,
    "editable": false
   },
   "source": [
    "**Hint:** When there are **multiple** conditions to filter a **DataFrame**, you can combine all the conditions with `&` as a logical operator between them. For example, you can extract the data for all the institutions with `Quality of Education Rank <= 10` and `Quality of Faculty Rank <= 10` with:\n",
    "\n",
    "```python\n",
    "rankings[(rankings[\"Quality of Education Rank\"] <= 10) & (rankings[\"Quality of Faculty Rank\"] <= 10)]\n",
    "```"
   ]
  },
  {
   "cell_type": "code",
   "execution_count": 18,
   "id": "74d630ad",
   "metadata": {
    "tags": []
   },
   "outputs": [
    {
     "data": {
      "text/html": [
       "<div>\n",
       "<style scoped>\n",
       "    .dataframe tbody tr th:only-of-type {\n",
       "        vertical-align: middle;\n",
       "    }\n",
       "\n",
       "    .dataframe tbody tr th {\n",
       "        vertical-align: top;\n",
       "    }\n",
       "\n",
       "    .dataframe thead th {\n",
       "        text-align: right;\n",
       "    }\n",
       "</style>\n",
       "<table border=\"1\" class=\"dataframe\">\n",
       "  <thead>\n",
       "    <tr style=\"text-align: right;\">\n",
       "      <th></th>\n",
       "      <th>World Rank</th>\n",
       "      <th>Year</th>\n",
       "      <th>Institution</th>\n",
       "      <th>Country</th>\n",
       "      <th>National Rank</th>\n",
       "      <th>Quality of Education Rank</th>\n",
       "      <th>Alumni Employment Rank</th>\n",
       "      <th>Quality of Faculty Rank</th>\n",
       "      <th>Research Performance Rank</th>\n",
       "      <th>Score</th>\n",
       "    </tr>\n",
       "  </thead>\n",
       "  <tbody>\n",
       "    <tr>\n",
       "      <th>2094</th>\n",
       "      <td>95</td>\n",
       "      <td>2020-2021</td>\n",
       "      <td>National University of Singapore</td>\n",
       "      <td>Singapore</td>\n",
       "      <td>1</td>\n",
       "      <td>330.0</td>\n",
       "      <td>165.0</td>\n",
       "      <td>NaN</td>\n",
       "      <td>41.0</td>\n",
       "      <td>82.0</td>\n",
       "    </tr>\n",
       "    <tr>\n",
       "      <th>2139</th>\n",
       "      <td>140</td>\n",
       "      <td>2020-2021</td>\n",
       "      <td>Nanyang Technological University</td>\n",
       "      <td>Singapore</td>\n",
       "      <td>2</td>\n",
       "      <td>NaN</td>\n",
       "      <td>996.0</td>\n",
       "      <td>NaN</td>\n",
       "      <td>75.0</td>\n",
       "      <td>80.3</td>\n",
       "    </tr>\n",
       "    <tr>\n",
       "      <th>3150</th>\n",
       "      <td>1151</td>\n",
       "      <td>2020-2021</td>\n",
       "      <td>Singapore University of Technology and Design</td>\n",
       "      <td>Singapore</td>\n",
       "      <td>3</td>\n",
       "      <td>NaN</td>\n",
       "      <td>NaN</td>\n",
       "      <td>NaN</td>\n",
       "      <td>1092.0</td>\n",
       "      <td>69.4</td>\n",
       "    </tr>\n",
       "    <tr>\n",
       "      <th>3286</th>\n",
       "      <td>1287</td>\n",
       "      <td>2020-2021</td>\n",
       "      <td>Singapore Management University</td>\n",
       "      <td>Singapore</td>\n",
       "      <td>4</td>\n",
       "      <td>NaN</td>\n",
       "      <td>NaN</td>\n",
       "      <td>NaN</td>\n",
       "      <td>1225.0</td>\n",
       "      <td>68.7</td>\n",
       "    </tr>\n",
       "  </tbody>\n",
       "</table>\n",
       "</div>"
      ],
      "text/plain": [
       "      World Rank       Year                                    Institution  \\\n",
       "2094          95  2020-2021               National University of Singapore   \n",
       "2139         140  2020-2021               Nanyang Technological University   \n",
       "3150        1151  2020-2021  Singapore University of Technology and Design   \n",
       "3286        1287  2020-2021                Singapore Management University   \n",
       "\n",
       "        Country  National Rank  Quality of Education Rank  \\\n",
       "2094  Singapore              1                      330.0   \n",
       "2139  Singapore              2                        NaN   \n",
       "3150  Singapore              3                        NaN   \n",
       "3286  Singapore              4                        NaN   \n",
       "\n",
       "      Alumni Employment Rank  Quality of Faculty Rank  \\\n",
       "2094                   165.0                      NaN   \n",
       "2139                   996.0                      NaN   \n",
       "3150                     NaN                      NaN   \n",
       "3286                     NaN                      NaN   \n",
       "\n",
       "      Research Performance Rank  Score  \n",
       "2094                       41.0   82.0  \n",
       "2139                       75.0   80.3  \n",
       "3150                     1092.0   69.4  \n",
       "3286                     1225.0   68.7  "
      ]
     },
     "execution_count": 18,
     "metadata": {},
     "output_type": "execute_result"
    }
   ],
   "source": [
    "# compute and store the answer in the variable 'singapore_inst', then display it\n",
    "singapore_inst = rankings[(rankings[\"Country\"] == \"Singapore\") & (rankings[\"Year\"] == \"2020-2021\")]\n",
    "singapore_inst "
   ]
  },
  {
   "cell_type": "code",
   "execution_count": 19,
   "id": "1bfd58a1",
   "metadata": {
    "deletable": false,
    "editable": false
   },
   "outputs": [
    {
     "data": {
      "text/html": [
       "<p><strong><pre style='display: inline;'>q6</pre></strong> passed!</p>"
      ],
      "text/plain": [
       "q6 results: All test cases passed!"
      ]
     },
     "execution_count": 19,
     "metadata": {},
     "output_type": "execute_result"
    }
   ],
   "source": [
    "grader.check(\"q6\")"
   ]
  },
  {
   "cell_type": "markdown",
   "id": "5b27b873",
   "metadata": {
    "deletable": false,
    "editable": false
   },
   "source": [
    "**Question 7:** In the `Year` *2019-2020*, what was the **highest-ranked** institution in the `Country` *Germany*?\n",
    "\n",
    "Your output **must** be a **string** representing the **name** of this institution.\n",
    "\n",
    "**Hint:** The highest-ranked institution in *Germany* is the institution from Germany with a `National Rank` of *1*."
   ]
  },
  {
   "cell_type": "code",
   "execution_count": 20,
   "id": "08b64943",
   "metadata": {
    "tags": []
   },
   "outputs": [
    {
     "data": {
      "text/plain": [
       "'Ludwig Maximilian University of Munich'"
      ]
     },
     "execution_count": 20,
     "metadata": {},
     "output_type": "execute_result"
    }
   ],
   "source": [
    "# compute and store the answer in the variable 'german_best_name', then display it\n",
    "germany_inst = rankings[(rankings[\"Country\"] == \"Germany\") & (rankings[\"Year\"] == \"2019-2020\")]\n",
    "german_best_inst = germany_inst[(germany_inst[\"National Rank\"] == 1)]\n",
    "german_best_name = german_best_inst[\"Institution\"].iloc[0]\n",
    "german_best_name"
   ]
  },
  {
   "cell_type": "code",
   "execution_count": 21,
   "id": "e0b39d64",
   "metadata": {
    "deletable": false,
    "editable": false
   },
   "outputs": [
    {
     "data": {
      "text/html": [
       "<p><strong><pre style='display: inline;'>q7</pre></strong> passed!</p>"
      ],
      "text/plain": [
       "q7 results: All test cases passed!"
      ]
     },
     "execution_count": 21,
     "metadata": {},
     "output_type": "execute_result"
    }
   ],
   "source": [
    "grader.check(\"q7\")"
   ]
  },
  {
   "cell_type": "markdown",
   "id": "958f7fd1",
   "metadata": {
    "deletable": false,
    "editable": false
   },
   "source": [
    "**Question 8:** In the `Year` *2019-2020*, list **all** the institutions in the *USA* that were ranked **better** than the highest-ranked institution in *Germany*.\n",
    "\n",
    "Your output **must** be a **list** containing the **names** of all universities from *USA* with a **better** `World Rank` than the institution `german_best_name` in the year 2019-2020. By **better** ranked, we refer to institutions with a **lower** value under the `World Rank` column.\n",
    "\n",
    "**Hint:** You could store the entire row of the highest ranked institution from Germany in a different variable in q6, and use it to extract its `World Rank`."
   ]
  },
  {
   "cell_type": "code",
   "execution_count": 22,
   "id": "36d58a49",
   "metadata": {
    "tags": []
   },
   "outputs": [
    {
     "data": {
      "text/plain": [
       "['Harvard University',\n",
       " 'Massachusetts Institute of Technology',\n",
       " 'Stanford University',\n",
       " 'Columbia University',\n",
       " 'Princeton University',\n",
       " 'University of California, Berkeley',\n",
       " 'University of Pennsylvania',\n",
       " 'University of Chicago',\n",
       " 'California Institute of Technology',\n",
       " 'Yale University',\n",
       " 'Cornell University',\n",
       " 'Northwestern University',\n",
       " 'University of California, Los Angeles',\n",
       " 'University of Michigan, Ann Arbor',\n",
       " 'Johns Hopkins University',\n",
       " 'University of Washington - Seattle',\n",
       " 'University of Illinois at Urbana–Champaign',\n",
       " 'Duke University',\n",
       " 'University of Wisconsin–Madison',\n",
       " 'New York University',\n",
       " 'University of California San Diego',\n",
       " 'University of Texas at Austin',\n",
       " 'University of California, San Francisco',\n",
       " 'University of North Carolina at Chapel Hill',\n",
       " 'University of Minnesota - Twin Cities',\n",
       " 'University of Texas Southwestern Medical Center',\n",
       " 'Washington University in St. Louis',\n",
       " 'University of Southern California',\n",
       " 'Brown University',\n",
       " 'Vanderbilt University',\n",
       " 'Pennsylvania State University',\n",
       " 'Rutgers University–New Brunswick',\n",
       " 'Dartmouth College',\n",
       " 'University of California, Davis']"
      ]
     },
     "execution_count": 22,
     "metadata": {},
     "output_type": "execute_result"
    }
   ],
   "source": [
    "# compute and store the answer in the variable 'us_better_than_german_best', then display it\n",
    "german_highest_world_rank = german_best_inst[\"World Rank\"].iloc[0]\n",
    "us_better_than_german = rankings[(rankings[\"Year\"] == \"2019-2020\") & (rankings[\"Country\"] == \"USA\") & (rankings[\"World Rank\"] < german_highest_world_rank)]\n",
    "us_better_than_german_best = list(pd.Series(us_better_than_german[\"Institution\"].iloc[:]))\n",
    "us_better_than_german_best"
   ]
  },
  {
   "cell_type": "code",
   "execution_count": 23,
   "id": "c3ff4f26",
   "metadata": {
    "deletable": false,
    "editable": false
   },
   "outputs": [
    {
     "data": {
      "text/html": [
       "<p><strong><pre style='display: inline;'>q8</pre></strong> passed!</p>"
      ],
      "text/plain": [
       "q8 results: All test cases passed!"
      ]
     },
     "execution_count": 23,
     "metadata": {},
     "output_type": "execute_result"
    }
   ],
   "source": [
    "grader.check(\"q8\")"
   ]
  },
  {
   "cell_type": "markdown",
   "id": "85bd8e09",
   "metadata": {
    "deletable": false,
    "editable": false
   },
   "source": [
    "**Question 9:** What is the **highest-ranked** institution based on `Quality of Education Rank` in *China* for the `Year` *2021-2022*?\n",
    "\n",
    "Your output **must** be a **string** representing the **name** of this institution. You may **assume** there is only one institution satisfying these requirements. By the **highest-ranked** institution, we refer to the institution with the **least** value under the `Quality of Education Rank` column.\n",
    "\n",
    "**Hint:** You can find the **minimum** value in a **Series** with the `Series.min` method. You can find the documentation [here](https://pandas.pydata.org/pandas-docs/stable/reference/api/pandas.Series.min.html)."
   ]
  },
  {
   "cell_type": "code",
   "execution_count": 24,
   "id": "9d4a2c8c",
   "metadata": {
    "tags": []
   },
   "outputs": [
    {
     "data": {
      "text/plain": [
       "'Fudan University'"
      ]
     },
     "execution_count": 24,
     "metadata": {},
     "output_type": "execute_result"
    }
   ],
   "source": [
    "# compute and store the answer in the variable 'china_highest_qoe', then display it\n",
    "china_inst = rankings[(rankings[\"Country\"] == \"China\") & (rankings[\"Year\"] == \"2021-2022\")]\n",
    "china_qoe = pd.Series(china_inst[\"Quality of Education Rank\"])\n",
    "china_best_qoe = china_qoe.min()\n",
    "china_highest_qoe_row = china_inst[(china_inst[\"Quality of Education Rank\"] == china_best_qoe)]\n",
    "china_highest_qoe = china_highest_qoe_row[\"Institution\"].iloc[0]\n",
    "china_highest_qoe"
   ]
  },
  {
   "cell_type": "code",
   "execution_count": 25,
   "id": "067cb43a",
   "metadata": {
    "deletable": false,
    "editable": false
   },
   "outputs": [
    {
     "data": {
      "text/html": [
       "<p><strong><pre style='display: inline;'>q9</pre></strong> passed!</p>"
      ],
      "text/plain": [
       "q9 results: All test cases passed!"
      ]
     },
     "execution_count": 25,
     "metadata": {},
     "output_type": "execute_result"
    }
   ],
   "source": [
    "grader.check(\"q9\")"
   ]
  },
  {
   "cell_type": "markdown",
   "id": "ac0ac81c",
   "metadata": {
    "deletable": false,
    "editable": false
   },
   "source": [
    "**Question 10:** What are the **top** *five* **highest-ranked** institutions based on `Research Performance Rank` in *India* for the `Year` *2020-2021*?\n",
    "\n",
    "Your output **must** be a **list** of institutions **sorted** in *increasing* order of their `Research Performance Rank`.\n",
    "\n",
    "**Hint:** For sorting a DataFrame based on the values of a particular column, you can use the `DataFrame.sort_values(by=\"column_name\")` method (where `column_name` is the column on which you want to sort). You can find the documentation [here](https://pandas.pydata.org/pandas-docs/stable/reference/api/pandas.DataFrame.sort_values.html)."
   ]
  },
  {
   "cell_type": "code",
   "execution_count": 26,
   "id": "80b791f8",
   "metadata": {
    "tags": []
   },
   "outputs": [
    {
     "data": {
      "text/plain": [
       "['Indian Institute of Science',\n",
       " 'Tata Institute of Fundamental Research',\n",
       " 'Indian Institute of Technology Bombay',\n",
       " 'University of Delhi',\n",
       " 'Indian Institute of Technology Madras']"
      ]
     },
     "execution_count": 26,
     "metadata": {},
     "output_type": "execute_result"
    }
   ],
   "source": [
    "# compute and store the answer in the variable 'india_highest_research', then display it\n",
    "india_inst = rankings[(rankings[\"Country\"] == \"India\") & (rankings[\"Year\"] == \"2020-2021\")].sort_values(by=\"Research Performance Rank\")\n",
    "india_highest_research = list(pd.Series(india_inst[\"Institution\"].iloc[:5]))\n",
    "india_highest_research"
   ]
  },
  {
   "cell_type": "code",
   "execution_count": 27,
   "id": "06f7c69f",
   "metadata": {
    "deletable": false,
    "editable": false
   },
   "outputs": [
    {
     "data": {
      "text/html": [
       "<p><strong><pre style='display: inline;'>q10</pre></strong> passed!</p>"
      ],
      "text/plain": [
       "q10 results: All test cases passed!"
      ]
     },
     "execution_count": 27,
     "metadata": {},
     "output_type": "execute_result"
    }
   ],
   "source": [
    "grader.check(\"q10\")"
   ]
  },
  {
   "cell_type": "markdown",
   "id": "b6e59a9a",
   "metadata": {
    "deletable": false,
    "editable": false
   },
   "source": [
    "For the next few questions, we will be analyzing how the rankings of the institutions change across the three years in the dataset. As you might have already noticed, the list of institutions in each year's rankings are different. As a result, for several institutions in the dataset, we do not have the rankings for all three years. Since it will be more challenging to analyze such institutions, we will simply skip them."
   ]
  },
  {
   "cell_type": "markdown",
   "id": "52ca1481",
   "metadata": {
    "deletable": false,
    "editable": false
   },
   "source": [
    "**Question 11:** How **many** institutions have rankings for **all** three years?\n",
    "\n",
    "Your output **must** be an **integer**. To get started, you have been provided with a code snippet below.\n",
    "\n",
    "**Hint:** You could make **sets** of the institutions that appear in each **DataFrame**, and find their **intersection**. Look up how to find the intersection of two or more sets in Python, on the internet!"
   ]
  },
  {
   "cell_type": "code",
   "execution_count": 28,
   "id": "9981a2ad",
   "metadata": {
    "tags": []
   },
   "outputs": [
    {
     "data": {
      "text/plain": [
       "1856"
      ]
     },
     "execution_count": 28,
     "metadata": {},
     "output_type": "execute_result"
    }
   ],
   "source": [
    "# replace the ... with your code\n",
    "\n",
    "year_2019_ranking_df = rankings[rankings[\"Year\"] == \"2019-2020\"]\n",
    "year_2020_ranking_df = rankings[rankings[\"Year\"] == \"2020-2021\"]\n",
    "year_2021_ranking_df = rankings[rankings[\"Year\"] == \"2021-2022\"]\n",
    "\n",
    "# TODO: make sets of the institutions in each of the three years\n",
    "institutions_2019 = set(year_2019_ranking_df[\"Institution\"])\n",
    "institutions_2020 = set(year_2020_ranking_df[\"Institution\"])\n",
    "institutions_2021 = set(year_2021_ranking_df[\"Institution\"])\n",
    "\n",
    "# TODO: find the intersection of the three sets\n",
    "institutions_2019_2020_2021 = institutions_2019.intersection(institutions_2020, institutions_2021)\n",
    "\n",
    "# TODO: find the length of the intersection\n",
    "num_institutions_2019_2020_2021 = len(institutions_2019_2020_2021)\n",
    "\n",
    "num_institutions_2019_2020_2021\n",
    "# TODO: make sets of the institutions in each of the three years\n",
    "# TODO: find the length of the intersection of the three sets"
   ]
  },
  {
   "cell_type": "code",
   "execution_count": 29,
   "id": "b9ed5f9a",
   "metadata": {
    "deletable": false,
    "editable": false
   },
   "outputs": [
    {
     "data": {
      "text/html": [
       "<p><strong><pre style='display: inline;'>q11</pre></strong> passed!</p>"
      ],
      "text/plain": [
       "q11 results: All test cases passed!"
      ]
     },
     "execution_count": 29,
     "metadata": {},
     "output_type": "execute_result"
    }
   ],
   "source": [
    "grader.check(\"q11\")"
   ]
  },
  {
   "cell_type": "markdown",
   "id": "1dbc7bbb",
   "metadata": {
    "deletable": false,
    "editable": false
   },
   "source": [
    "### Data Structure 1: `institutions_df`\n",
    "\n",
    "You are now going to create a new **DataFrame** with a **unique** list of institutions which have featured in the rankings for **all** three years, along with their `World Ranking` across the three years. Specifically, the **DataFrame** would have the following four columns - `Institution`, `2019_ranking`, `2020_ranking`, and `2021_ranking`. To get started, you can use the following code snippet:"
   ]
  },
  {
   "cell_type": "code",
   "execution_count": 30,
   "id": "09a74e61",
   "metadata": {
    "tags": []
   },
   "outputs": [
    {
     "data": {
      "text/html": [
       "<div>\n",
       "<style scoped>\n",
       "    .dataframe tbody tr th:only-of-type {\n",
       "        vertical-align: middle;\n",
       "    }\n",
       "\n",
       "    .dataframe tbody tr th {\n",
       "        vertical-align: top;\n",
       "    }\n",
       "\n",
       "    .dataframe thead th {\n",
       "        text-align: right;\n",
       "    }\n",
       "</style>\n",
       "<table border=\"1\" class=\"dataframe\">\n",
       "  <thead>\n",
       "    <tr style=\"text-align: right;\">\n",
       "      <th></th>\n",
       "      <th>Institution</th>\n",
       "      <th>2019_ranking</th>\n",
       "      <th>2020_ranking</th>\n",
       "      <th>2021_ranking</th>\n",
       "    </tr>\n",
       "  </thead>\n",
       "  <tbody>\n",
       "    <tr>\n",
       "      <th>0</th>\n",
       "      <td>Assiut University</td>\n",
       "      <td>1192</td>\n",
       "      <td>1197</td>\n",
       "      <td>1190</td>\n",
       "    </tr>\n",
       "    <tr>\n",
       "      <th>1</th>\n",
       "      <td>Cadi Ayyad University</td>\n",
       "      <td>1120</td>\n",
       "      <td>1048</td>\n",
       "      <td>1034</td>\n",
       "    </tr>\n",
       "    <tr>\n",
       "      <th>2</th>\n",
       "      <td>University of Hyogo</td>\n",
       "      <td>859</td>\n",
       "      <td>870</td>\n",
       "      <td>897</td>\n",
       "    </tr>\n",
       "    <tr>\n",
       "      <th>3</th>\n",
       "      <td>Hong Kong University of Science and Technology</td>\n",
       "      <td>291</td>\n",
       "      <td>235</td>\n",
       "      <td>229</td>\n",
       "    </tr>\n",
       "    <tr>\n",
       "      <th>4</th>\n",
       "      <td>Sejong University</td>\n",
       "      <td>840</td>\n",
       "      <td>780</td>\n",
       "      <td>758</td>\n",
       "    </tr>\n",
       "    <tr>\n",
       "      <th>...</th>\n",
       "      <td>...</td>\n",
       "      <td>...</td>\n",
       "      <td>...</td>\n",
       "      <td>...</td>\n",
       "    </tr>\n",
       "    <tr>\n",
       "      <th>1851</th>\n",
       "      <td>Pontifical Catholic University of Paraná</td>\n",
       "      <td>1646</td>\n",
       "      <td>1695</td>\n",
       "      <td>1691</td>\n",
       "    </tr>\n",
       "    <tr>\n",
       "      <th>1852</th>\n",
       "      <td>Medical University of Graz</td>\n",
       "      <td>570</td>\n",
       "      <td>535</td>\n",
       "      <td>561</td>\n",
       "    </tr>\n",
       "    <tr>\n",
       "      <th>1853</th>\n",
       "      <td>National Autonomous University of Mexico</td>\n",
       "      <td>262</td>\n",
       "      <td>284</td>\n",
       "      <td>287</td>\n",
       "    </tr>\n",
       "    <tr>\n",
       "      <th>1854</th>\n",
       "      <td>Yunnan Normal University</td>\n",
       "      <td>1730</td>\n",
       "      <td>1767</td>\n",
       "      <td>1754</td>\n",
       "    </tr>\n",
       "    <tr>\n",
       "      <th>1855</th>\n",
       "      <td>Federal University of São Carlos</td>\n",
       "      <td>938</td>\n",
       "      <td>945</td>\n",
       "      <td>968</td>\n",
       "    </tr>\n",
       "  </tbody>\n",
       "</table>\n",
       "<p>1856 rows × 4 columns</p>\n",
       "</div>"
      ],
      "text/plain": [
       "                                         Institution  2019_ranking  \\\n",
       "0                                  Assiut University          1192   \n",
       "1                              Cadi Ayyad University          1120   \n",
       "2                                University of Hyogo           859   \n",
       "3     Hong Kong University of Science and Technology           291   \n",
       "4                                  Sejong University           840   \n",
       "...                                              ...           ...   \n",
       "1851        Pontifical Catholic University of Paraná          1646   \n",
       "1852                      Medical University of Graz           570   \n",
       "1853        National Autonomous University of Mexico           262   \n",
       "1854                        Yunnan Normal University          1730   \n",
       "1855                Federal University of São Carlos           938   \n",
       "\n",
       "      2020_ranking  2021_ranking  \n",
       "0             1197          1190  \n",
       "1             1048          1034  \n",
       "2              870           897  \n",
       "3              235           229  \n",
       "4              780           758  \n",
       "...            ...           ...  \n",
       "1851          1695          1691  \n",
       "1852           535           561  \n",
       "1853           284           287  \n",
       "1854          1767          1754  \n",
       "1855           945           968  \n",
       "\n",
       "[1856 rows x 4 columns]"
      ]
     },
     "execution_count": 30,
     "metadata": {},
     "output_type": "execute_result"
    }
   ],
   "source": [
    "# define the variable 'institutions_df'\n",
    "\n",
    "# TODO: initalize an empty list to store the list of institutions\n",
    "# TODO: loop through the variable 'institutions_2019_2020_2021' defined above\n",
    "    # TODO: create a new dictionary with the necessary key/value pairs\n",
    "    # TODO: append the dictionary to the list\n",
    "# TODO: create the DataFrame from the list of dictionaries\n",
    "\n",
    "inst_list = []\n",
    "\n",
    "for inst in institutions_2019_2020_2021:\n",
    "    inst_dict = {}\n",
    "    inst_df = rankings[(rankings[\"Institution\"] == inst)]\n",
    "    inst_2019 = inst_df[(inst_df[\"Year\"] == \"2019-2020\")]\n",
    "    inst_2020 = inst_df[(inst_df[\"Year\"] == \"2020-2021\")]\n",
    "    inst_2021 = inst_df[(inst_df[\"Year\"] == \"2021-2022\")]\n",
    "    inst_dict[\"Institution\"] = inst\n",
    "    inst_dict[\"2019_ranking\"] = inst_2019[\"World Rank\"].iloc[0]\n",
    "    inst_dict[\"2020_ranking\"] = inst_2020[\"World Rank\"].iloc[0]\n",
    "    inst_dict[\"2021_ranking\"] = inst_2021[\"World Rank\"].iloc[0]\n",
    "    inst_list.append(inst_dict)\n",
    "institutions_df = pd.DataFrame(inst_list)\n",
    "institutions_df"
   ]
  },
  {
   "cell_type": "code",
   "execution_count": 31,
   "id": "ada67ebd",
   "metadata": {
    "deletable": false,
    "editable": false
   },
   "outputs": [
    {
     "data": {
      "text/html": [
       "<p><strong><pre style='display: inline;'>institutions_df</pre></strong> passed!</p>"
      ],
      "text/plain": [
       "institutions_df results: All test cases passed!"
      ]
     },
     "execution_count": 31,
     "metadata": {},
     "output_type": "execute_result"
    }
   ],
   "source": [
    "grader.check(\"institutions_df\")"
   ]
  },
  {
   "cell_type": "markdown",
   "id": "97e1bfa0",
   "metadata": {
    "deletable": false,
    "editable": false
   },
   "source": [
    "**Question 12:** Between the years *2019-2020* and *2021-2022*, **list** the institutions which have seen an **improvement** in their `World Rank` by **more than** *500* ranks.\n",
    "\n",
    "Your output **must** be a **list** of institution names. The **order** does **not** matter. You **must** use the DataFrame `institutions_df` to answer this question.\n",
    "\n",
    "**Hints:**\n",
    "\n",
    "1. In pandas, subtraction of two columns can be simply done using subtraction(`-`) operator. For example,\n",
    "``` python\n",
    "df[\"difference\"] = df[\"column1\"] - df[\"column2\"]\n",
    "```\n",
    "will create a *new column* `difference` with the difference of the values from the columns `column1` and `column2`.\n",
    "2. Note that an *improved* ranking means that the `World Rank` has *decreased*."
   ]
  },
  {
   "cell_type": "code",
   "execution_count": 32,
   "id": "cda0a5ae",
   "metadata": {
    "tags": []
   },
   "outputs": [
    {
     "data": {
      "text/plain": [
       "['Federal University of Mato Grosso do Sul',\n",
       " 'SOAS University of London',\n",
       " 'École nationale supérieure de chimie de Montpellier',\n",
       " 'International Institute for Management Development',\n",
       " 'Tôn Đức Thắng University',\n",
       " 'Academy of Scientific & Innovative Research',\n",
       " 'Haverford College',\n",
       " 'Antioch College',\n",
       " 'USI - University of Italian Speaking Switzerland']"
      ]
     },
     "execution_count": 32,
     "metadata": {},
     "output_type": "execute_result"
    }
   ],
   "source": [
    "# compute and store the answer in the variable 'improved_institutions', then display it\n",
    "institutions_df[\"difference\"] = institutions_df[\"2019_ranking\"] - institutions_df[\"2021_ranking\"]\n",
    "improved_inst = institutions_df[(institutions_df[\"difference\"] > 500)]\n",
    "improved_institutions = list(pd.Series(improved_inst[\"Institution\"]).iloc[:])\n",
    "improved_institutions"
   ]
  },
  {
   "cell_type": "code",
   "execution_count": 33,
   "id": "d8d2ca77",
   "metadata": {
    "deletable": false,
    "editable": false
   },
   "outputs": [
    {
     "data": {
      "text/html": [
       "<p><strong><pre style='display: inline;'>q12</pre></strong> passed!</p>"
      ],
      "text/plain": [
       "q12 results: All test cases passed!"
      ]
     },
     "execution_count": 33,
     "metadata": {},
     "output_type": "execute_result"
    }
   ],
   "source": [
    "grader.check(\"q12\")"
   ]
  },
  {
   "cell_type": "markdown",
   "id": "1bb526df",
   "metadata": {
    "deletable": false,
    "editable": false
   },
   "source": [
    "**Question 13:** Between the years 2019-2020 and 2021-2022, which institution had the **largest** change in its `World Rank`?\n",
    "\n",
    "Your output **must** be a **string** representing the name of the institution with the **greatest absolute difference** between its `World Rank` in 2019-2020 and 2021-2022. You **must** use the DataFrame `institutions_df` to answer this question.\n",
    "\n",
    "**Hint:** You can find maximum value in a Series with the `Series.max` method. You can find the documentation [here](https://pandas.pydata.org/pandas-docs/stable/reference/api/pandas.Series.max.html)."
   ]
  },
  {
   "cell_type": "code",
   "execution_count": 34,
   "id": "3188fca1",
   "metadata": {
    "tags": []
   },
   "outputs": [
    {
     "data": {
      "text/plain": [
       "'USI - University of Italian Speaking Switzerland'"
      ]
     },
     "execution_count": 34,
     "metadata": {},
     "output_type": "execute_result"
    }
   ],
   "source": [
    "# compute and store the answer in the variable 'most_change_inst', then display it\n",
    "inst_change = pd.Series(improved_inst[\"difference\"]).iloc[:]\n",
    "most_change = institutions_df[(institutions_df[\"difference\"]==inst_change.max())]\n",
    "most_change_inst = most_change[\"Institution\"].iloc[0]\n",
    "most_change_inst"
   ]
  },
  {
   "cell_type": "code",
   "execution_count": 35,
   "id": "ae48cab2",
   "metadata": {
    "deletable": false,
    "editable": false
   },
   "outputs": [
    {
     "data": {
      "text/html": [
       "<p><strong><pre style='display: inline;'>q13</pre></strong> passed!</p>"
      ],
      "text/plain": [
       "q13 results: All test cases passed!"
      ]
     },
     "execution_count": 35,
     "metadata": {},
     "output_type": "execute_result"
    }
   ],
   "source": [
    "grader.check(\"q13\")"
   ]
  },
  {
   "cell_type": "markdown",
   "id": "a218a92f",
   "metadata": {
    "deletable": false,
    "editable": false
   },
   "source": [
    "**Question 14:** For all the three years, find the **number** of institutions that **improved** their `World Rank` **each year**.\n",
    "\n",
    "Your output **must** be an **integer** representing the number of institutions whose `World Rank` **strictly** increased each year. You **must** use the DataFrame `institutions_df` to answer this question."
   ]
  },
  {
   "cell_type": "code",
   "execution_count": 36,
   "id": "c16ac155",
   "metadata": {
    "tags": []
   },
   "outputs": [
    {
     "data": {
      "text/plain": [
       "451"
      ]
     },
     "execution_count": 36,
     "metadata": {},
     "output_type": "execute_result"
    }
   ],
   "source": [
    "# compute and store the answer in the variable 'strictly_improved', then display it\n",
    "institutions_df[\"difference_19_20\"] = institutions_df[\"2019_ranking\"] - institutions_df[\"2020_ranking\"]\n",
    "institutions_df[\"difference_20_21\"] = institutions_df[\"2020_ranking\"] - institutions_df[\"2021_ranking\"]\n",
    "improved_each_year = institutions_df[(institutions_df[\"difference_19_20\"] > 0) & (institutions_df[\"difference_20_21\"] > 0)]\n",
    "improved_each_year_list = list(pd.Series(improved_each_year[\"Institution\"]))\n",
    "strictly_improved = len(improved_each_year_list)\n",
    "strictly_improved"
   ]
  },
  {
   "cell_type": "code",
   "execution_count": 37,
   "id": "24b1de42",
   "metadata": {
    "deletable": false,
    "editable": false
   },
   "outputs": [
    {
     "data": {
      "text/html": [
       "<p><strong><pre style='display: inline;'>q14</pre></strong> passed!</p>"
      ],
      "text/plain": [
       "q14 results: All test cases passed!"
      ]
     },
     "execution_count": 37,
     "metadata": {},
     "output_type": "execute_result"
    }
   ],
   "source": [
    "grader.check(\"q14\")"
   ]
  },
  {
   "cell_type": "markdown",
   "id": "c340354f",
   "metadata": {
    "deletable": false,
    "editable": false
   },
   "source": [
    "**Question 15:** In the `Year` *2020-2021*, **list** the institutions which are within the **top** 10 in the world based on `Alumni Employment Rank` but do **not** feature in the top 10 of the `World Ranking`.\n",
    "\n",
    "\n",
    "Your output **must** be a **list** of institutions. The **order** does **not** matter. You **must** use the `year_2020_ranking_df` DataFrame that you created in q11 to answer this question."
   ]
  },
  {
   "cell_type": "code",
   "execution_count": 38,
   "id": "5549e0a1",
   "metadata": {
    "tags": []
   },
   "outputs": [
    {
     "data": {
      "text/plain": [
       "['University of Tokyo',\n",
       " 'Institut Polytechnique de Paris',\n",
       " 'INSEAD',\n",
       " \"École nationale d'administration\",\n",
       " 'HEC Paris',\n",
       " 'International Institute for Management Development',\n",
       " 'China Europe International Business School']"
      ]
     },
     "execution_count": 38,
     "metadata": {},
     "output_type": "execute_result"
    }
   ],
   "source": [
    "# compute and store the answer in the variable 'top_only_aer', then display it\n",
    "top_only_data = year_2020_ranking_df[(year_2020_ranking_df[\"Alumni Employment Rank\"] <= 10) & (year_2020_ranking_df[\"World Rank\"] > 10)]\n",
    "top_only_aer = list(pd.Series(top_only_data[\"Institution\"]))\n",
    "top_only_aer"
   ]
  },
  {
   "cell_type": "code",
   "execution_count": 39,
   "id": "d8d3133b",
   "metadata": {
    "deletable": false,
    "editable": false
   },
   "outputs": [
    {
     "data": {
      "text/html": [
       "<p><strong><pre style='display: inline;'>q15</pre></strong> passed!</p>"
      ],
      "text/plain": [
       "q15 results: All test cases passed!"
      ]
     },
     "execution_count": 39,
     "metadata": {},
     "output_type": "execute_result"
    }
   ],
   "source": [
    "grader.check(\"q15\")"
   ]
  },
  {
   "cell_type": "markdown",
   "id": "d625cca0",
   "metadata": {
    "deletable": false,
    "editable": false
   },
   "source": [
    "**Question 16:** **List** the universities which ranked in the **top** 100 of world rankings (`World Rank`) in the `Year` *2019-2020* but **failed** to do so in the `Year` *2021-2022*.\n",
    "\n",
    "Your output **must** be a **list** of institutions. The **order** does **not** matter. You **must** use the `year_2019_ranking_df` and `year_2021_ranking_df` DataFrames that you created in q11 to answer this question.\n",
    "\n",
    "**Hints:**\n",
    "1. There could be institutions that are ranked in the **top** 100 in *2019-2020* but do not feature in *2021-2022*; you still want to include them in your list.\n",
    "2. You can use `sort_values` to identify the **top** 100 institutions.\n",
    "3. Given two *sets* `A` and `B`, you can find the elements which are in `A` but not in `B` using `A - B`. For example,\n",
    "```python\n",
    "set_A = {10, 20, 30, 40, 50}\n",
    "set_B = {20, 40, 70}\n",
    "set_A - set_B == {10, 30, 50} # elements which are in set_A but not in set_B\n",
    "```"
   ]
  },
  {
   "cell_type": "code",
   "execution_count": 40,
   "id": "9d23a40d",
   "metadata": {
    "tags": []
   },
   "outputs": [
    {
     "data": {
      "text/plain": [
       "['Emory University',\n",
       " 'University of California San Diego',\n",
       " 'École normale supérieure',\n",
       " 'Aarhus University',\n",
       " 'École Polytechnique Fédérale de Lausanne',\n",
       " 'University of Texas MD Anderson Cancer Center',\n",
       " 'Paris Diderot University',\n",
       " 'École Polytechnique',\n",
       " 'University of Groningen',\n",
       " 'Paris-Sud University',\n",
       " 'University of Utah',\n",
       " 'Tufts University']"
      ]
     },
     "execution_count": 40,
     "metadata": {},
     "output_type": "execute_result"
    }
   ],
   "source": [
    "# compute and store the answer in the variable 'top_only_2019', then display it\n",
    "\n",
    "top_only_2019_data = year_2019_ranking_df.sort_values(by=\"World Rank\").iloc[:100]\n",
    "top_only_2019_set = set(list(pd.Series(top_only_2019_data[\"Institution\"])))\n",
    "not_top_2021_data = year_2021_ranking_df.sort_values(by=\"World Rank\").iloc[:100]\n",
    "not_top_2021_set = set(list(pd.Series(not_top_2021_data[\"Institution\"])))\n",
    "top_only_total = top_only_2019_set - not_top_2021_set\n",
    "\n",
    "top_only_2019 = list(top_only_total)\n",
    "top_only_2019"
   ]
  },
  {
   "cell_type": "code",
   "execution_count": 41,
   "id": "9534d3ff",
   "metadata": {
    "deletable": false,
    "editable": false
   },
   "outputs": [
    {
     "data": {
      "text/html": [
       "<p><strong><pre style='display: inline;'>q16</pre></strong> passed!</p>"
      ],
      "text/plain": [
       "q16 results: All test cases passed!"
      ]
     },
     "execution_count": 41,
     "metadata": {},
     "output_type": "execute_result"
    }
   ],
   "source": [
    "grader.check(\"q16\")"
   ]
  },
  {
   "cell_type": "markdown",
   "id": "4f2f2ab8",
   "metadata": {
    "deletable": false,
    "editable": false
   },
   "source": [
    "**Question 17:** **List** the countries which have **at least** *10* institutions featuring in the **top** *100* of world rankings (`World Rank`) in the `Year` *2020-2021*.\n",
    "\n",
    "Your output **must** be a **list**.\n",
    "\n",
    "**Hints:**\n",
    "\n",
    "1. In a **DataFrame**, to find the **number** of times each unique value in a column repeats, you can use the `DataFrame.value_counts` method. For example,\n",
    "``` python\n",
    "rankings[\"Country\"].value_counts()\n",
    "```\n",
    "would output a `pandas` **Series** with the **indices** being the unique values of `Country` and the **values** being the **number** of times each country has featured in the `rankings` **DataFrame**. You can find the documentation [here](https://pandas.pydata.org/pandas-docs/stable/reference/api/pandas.DataFrame.value_counts.html). You can adapt this code to find the number of institutions from each country that features in the `Year` *2020-2021*.\n",
    "2. Just like with **DataFrames**, you can use Boolean indexing on **Series**. For example, try something like this in a separate cell below:\n",
    "```python\n",
    "a = pd.Series([100, 200, 300])\n",
    "a[a > 100]\n",
    "```\n",
    "3. You can extract the **indices** of a **Series**, `s` with `s.index`."
   ]
  },
  {
   "cell_type": "code",
   "execution_count": 42,
   "id": "a7310f87",
   "metadata": {},
   "outputs": [
    {
     "data": {
      "text/plain": [
       "['USA', 'United Kingdom']"
      ]
     },
     "execution_count": 42,
     "metadata": {},
     "output_type": "execute_result"
    }
   ],
   "source": [
    "country_ranks_2020 = pd.Series(year_2020_ranking_df.sort_values(by=\"World Rank\").iloc[:100].value_counts(\"Country\"))\n",
    "top_countries_count = country_ranks_2020[country_ranks_2020 >= 10]\n",
    "top_countries = list(top_countries_count.index)\n",
    "top_countries"
   ]
  },
  {
   "cell_type": "code",
   "execution_count": 43,
   "id": "58ce02c7",
   "metadata": {
    "deletable": false,
    "editable": false
   },
   "outputs": [
    {
     "data": {
      "text/html": [
       "<p><strong><pre style='display: inline;'>q17</pre></strong> passed!</p>"
      ],
      "text/plain": [
       "q17 results: All test cases passed!"
      ]
     },
     "execution_count": 43,
     "metadata": {},
     "output_type": "execute_result"
    }
   ],
   "source": [
    "grader.check(\"q17\")"
   ]
  },
  {
   "cell_type": "markdown",
   "id": "ba13a862",
   "metadata": {
    "deletable": false,
    "editable": false
   },
   "source": [
    "## Beautiful Soup"
   ]
  },
  {
   "cell_type": "markdown",
   "id": "0bb1add3",
   "metadata": {
    "deletable": false,
    "editable": false
   },
   "source": [
    "## Setup\n",
    "\n",
    "In real life, you don't often have data in nice JSON format like `rankings.json`. Instead, data needs to be *scraped* from multiple webpages and requires some cleanup before it can be used.\n",
    "\n",
    "Most of the projects in CS220 have used data obtained via web scraping, including this one. For p12, as explained above, we obtained the data by scraping the following websites:\n",
    "\n",
    "* https://cwur.org/2021-22.php\n",
    "* https://cwur.org/2020-21.php\n",
    "* https://cwur.org/2019-20.php\n",
    "\n",
    "Our `rankings.json` file was created using data from these webpages. For the rest of this project, you will write the code to **recreate** `rankings.json` file from the tables in these html pages yourself! We also do **not** want all students in this class to be making multiple requests to the webpages above, as that could be very costly for the people managing the webpages. Instead, we have made **copies** of the webpages above, which can be found here:\n",
    "\n",
    "* https://git.doit.wisc.edu/cdis/cs/courses/cs220/cs220-f22-projects/-/raw/main/p12/2019-2020.html\n",
    "* https://git.doit.wisc.edu/cdis/cs/courses/cs220/cs220-f22-projects/-/raw/main/p12/2020-2021.html\n",
    "* https://git.doit.wisc.edu/cdis/cs/courses/cs220/cs220-f22-projects/-/raw/main/p12/2021-2022.html\n",
    "\n",
    "Before you can parse these html files, you must first *download* them. You **must** use your `download` function to download these files."
   ]
  },
  {
   "cell_type": "code",
   "execution_count": 44,
   "id": "cd8de9a9",
   "metadata": {
    "tags": []
   },
   "outputs": [],
   "source": [
    "# use the 'download' function to download the data from the webpage\n",
    "# 'https://git.doit.wisc.edu/cdis/cs/courses/cs220/cs220-f22-projects/-/raw/main/p12/2019-2020.html'\n",
    "# to the file '2019-2020.html'\n",
    "first_html_url = \"https://git.doit.wisc.edu/cdis/cs/courses/cs220/cs220-f22-projects/-/raw/main/p12/2019-2020.html\"\n",
    "\n",
    "if os.path.exists(\"2019-2020.html\"):\n",
    "    os.remove(\"2019-2020.html\")\n",
    "\n",
    "assert download(\"2019-2020.html\", first_html_url) == \"2019-2020.html created!\"\n",
    "assert(os.path.exists(\"2019-2020.html\"))\n",
    "\n",
    "f = open(\"2019-2020.html\", \"w\") # rewrite the contents of the file\n",
    "f.close()\n",
    "assert (download(\"2019-2020.html\",first_html_url) == \"2019-2020.html already exists!\" )\n",
    "assert(os.path.getsize(\"2019-2020.html\") == 0) # check that the file was not redownloaded\n",
    "os.remove(\"2019-2020.html\")\n",
    "assert download(\"2019-2020.html\", first_html_url) == \"2019-2020.html created!\""
   ]
  },
  {
   "cell_type": "code",
   "execution_count": 45,
   "id": "a3d7eb35",
   "metadata": {
    "tags": []
   },
   "outputs": [],
   "source": [
    "# use the 'download' function to download the data from the webpage\n",
    "# 'https://git.doit.wisc.edu/cdis/cs/courses/cs220/cs220-f22-projects/-/raw/main/p12/2020-2021.html'\n",
    "# to the file '2020-2021.html'\n",
    "second_html_url = \"https://git.doit.wisc.edu/cdis/cs/courses/cs220/cs220-f22-projects/-/raw/main/p12/2020-2021.html\"\n",
    "\n",
    "if os.path.exists(\"2020-2021.html\"):\n",
    "    os.remove(\"2020-2021.html\")\n",
    "\n",
    "assert download(\"2020-2021.html\", second_html_url) == \"2020-2021.html created!\"\n",
    "assert(os.path.exists(\"2020-2021.html\"))\n",
    "\n",
    "f = open(\"2020-2021.html\", \"w\") # rewrite the contents of the file\n",
    "f.close()\n",
    "assert (download(\"2020-2021.html\",second_html_url) == \"2020-2021.html already exists!\" )\n",
    "assert(os.path.getsize(\"2020-2021.html\") == 0) # check that the file was not redownloaded\n",
    "os.remove(\"2020-2021.html\")\n",
    "assert download(\"2020-2021.html\", second_html_url) == \"2020-2021.html created!\""
   ]
  },
  {
   "cell_type": "code",
   "execution_count": 46,
   "id": "582656d3",
   "metadata": {
    "tags": []
   },
   "outputs": [],
   "source": [
    "# use the 'download' function to download the data from the webpage\n",
    "# 'https://git.doit.wisc.edu/cdis/cs/courses/cs220/cs220-f22-projects/-/raw/main/p12/2021-2022.html'\n",
    "# to the file '2021-2022.html'\n",
    "third_html_url = \"https://git.doit.wisc.edu/cdis/cs/courses/cs220/cs220-f22-projects/-/raw/main/p12/2021-2022.html\"\n",
    "\n",
    "if os.path.exists(\"2021-2022.html\"):\n",
    "    os.remove(\"2021-2022.html\")\n",
    "\n",
    "assert download(\"2021-2022.html\", third_html_url) == \"2021-2022.html created!\"\n",
    "assert(os.path.exists(\"2021-2022.html\"))\n",
    "\n",
    "f = open(\"2021-2022.html\", \"w\") # rewrite the contents of the file\n",
    "f.close()\n",
    "assert (download(\"2021-2022.html\",third_html_url) == \"2021-2022.html already exists!\" )\n",
    "assert(os.path.getsize(\"2021-2022.html\") == 0) # check that the file was not redownloaded\n",
    "os.remove(\"2021-2022.html\")\n",
    "assert download(\"2021-2022.html\", third_html_url) == \"2021-2022.html created!\""
   ]
  },
  {
   "cell_type": "markdown",
   "id": "ad8cae8c",
   "metadata": {
    "deletable": false,
    "editable": false
   },
   "source": [
    "**Question 18:** Use `BeautifulSoup` to **parse** `2019-2020.html`, and find the **table** containing the ranking data. What are the **column names** of this table?\n",
    "\n",
    "Your output **must** be a **list** of **column names** from this table. There are no restrictions on 'hardcoding' **indices** or **html tags**.\n",
    "\n",
    "**Hint:** You **must** use the `find` or `find_all` **methods** to identify the table and its header."
   ]
  },
  {
   "cell_type": "code",
   "execution_count": 56,
   "id": "62ae5cc7",
   "metadata": {
    "tags": []
   },
   "outputs": [
    {
     "data": {
      "text/plain": [
       "['World Rank',\n",
       " 'Institution',\n",
       " 'Country',\n",
       " 'National Rank',\n",
       " 'Quality of Education Rank',\n",
       " 'Alumni Employment Rank',\n",
       " 'Quality of Faculty Rank',\n",
       " 'Research Performance Rank',\n",
       " 'Score']"
      ]
     },
     "execution_count": 56,
     "metadata": {},
     "output_type": "execute_result"
    }
   ],
   "source": [
    "# compute and store the answer in the variable 'header', then display it\n",
    "f = open(\"2019-2020.html\", encoding='utf-8')\n",
    "str_2019_2020 = f.read()\n",
    "f.close()\n",
    "\n",
    "obj_2019_2020 = BeautifulSoup(str_2019_2020, \"html.parser\")\n",
    "table = obj_2019_2020.find(\"table\")\n",
    "header = [th.get_text() for th in table.find_all('th')]\n",
    "header"
   ]
  },
  {
   "cell_type": "code",
   "execution_count": 57,
   "id": "d170cf19",
   "metadata": {
    "deletable": false,
    "editable": false
   },
   "outputs": [
    {
     "data": {
      "text/html": [
       "<p><strong><pre style='display: inline;'>q18</pre></strong> passed!</p>"
      ],
      "text/plain": [
       "q18 results: All test cases passed!"
      ]
     },
     "execution_count": 57,
     "metadata": {},
     "output_type": "execute_result"
    }
   ],
   "source": [
    "grader.check(\"q18\")"
   ]
  },
  {
   "cell_type": "markdown",
   "id": "9b9a569e",
   "metadata": {
    "deletable": false,
    "editable": false
   },
   "source": [
    "### Function 2: `parse_html(filename)`\n",
    "\n",
    "You **must** write this function which takes in a HTML file `filename` as its input, parses it, and returns a **list** of **dictionaries** containing all the data in the **table** stored in `filename`.\n",
    "\n",
    "There are **no** restrictions on 'hardcoding' html tags.\n",
    "\n",
    "For example, the output of the function call `parse_html(\"2019-2020.html\")` **must** look like this:\n",
    "\n",
    "```python\n",
    "[{'Year': '2019-2020',\n",
    "  'World Rank': 1,\n",
    "  'Institution': 'Harvard University',\n",
    "  'Country': 'USA',\n",
    "  'National Rank': 1,\n",
    "  'Quality of Education Rank': 2,\n",
    "  'Alumni Employment Rank': 1,\n",
    "  'Quality of Faculty Rank': 1,\n",
    "  'Research Performance Rank': 1,\n",
    "  'Score': 100},\n",
    " {'Year': '2019-2020',\n",
    "  'World Rank': 2,\n",
    "  'Institution': 'Massachusetts Institute of Technology',\n",
    "  'Country': 'USA',\n",
    "  'National Rank': 2,\n",
    "  'Quality of Education Rank': 1,\n",
    "  'Alumni Employment Rank': 10,\n",
    "  'Quality of Faculty Rank': 2,\n",
    "  'Research Performance Rank': 5,\n",
    "  'Score': 96.7},\n",
    "...]\n",
    "```\n",
    "\n",
    "You can copy/paste this function from lab-p12 if you have already defined it there."
   ]
  },
  {
   "cell_type": "code",
   "execution_count": 68,
   "id": "2bdb914c",
   "metadata": {
    "tags": []
   },
   "outputs": [],
   "source": [
    "# define the function 'parse_html' here\n",
    "def parse_html(filename):\n",
    "    f = open(filename, encoding='utf-8')\n",
    "    filename_str = f.read()\n",
    "    f.close()\n",
    "\n",
    "    filename_obj = BeautifulSoup(filename_str, \"html.parser\")\n",
    "    \n",
    "    table = filename_obj.find(\"table\") # works only when you have exactly 1 table\n",
    "    header = [th.get_text() for th in table.find_all('th')]\n",
    "\n",
    "    institution_list = []\n",
    "\n",
    "    tr_elements = table.find_all('tr')\n",
    "    for tr in tr_elements[1:]: # Skip first row (header row)\n",
    "        institution = {}\n",
    "        td_elements = tr.find_all('td')\n",
    "        for idx in range(len(td_elements)):\n",
    "            td = td_elements[idx]\n",
    "            val = td.get_text()\n",
    "            institution[\"Year\"] = filename[:-5]\n",
    "            if val == \"-\":\n",
    "                val = None\n",
    "            if header[idx] in [\"World Rank\", \"National Rank\", \"Quality of Education Rank\", \"Alumni Employment Rank\", \"Quality of Faculty Rank\", \"Research Performance Rank\"] and val != None:\n",
    "                institution[header[idx]] = int(val)\n",
    "            elif header[idx] == \"Score\" and val != None:\n",
    "                institution[header[idx]] = float(val)\n",
    "            else:\n",
    "                institution[header[idx]] = val\n",
    "        institution_list.append(institution)\n",
    "    \n",
    "    return institution_list"
   ]
  },
  {
   "cell_type": "markdown",
   "id": "eeb9f4a3",
   "metadata": {
    "deletable": false,
    "editable": false
   },
   "source": [
    "**Question 19:** List the **statistics** of the **first** 5 dictionaries institutions in the file `2019-2020.html`.\n",
    "\n",
    "Your output **must** be a **list** of **dictionaries**. You **must** use the `parse_html` function to parse the file, and **slice** the first five **lists** to answer this question."
   ]
  },
  {
   "cell_type": "code",
   "execution_count": 70,
   "id": "a3b48380",
   "metadata": {},
   "outputs": [
    {
     "data": {
      "text/plain": [
       "[{'Year': '2019-2020',\n",
       "  'World Rank': 1,\n",
       "  'Institution': 'Harvard University',\n",
       "  'Country': 'USA',\n",
       "  'National Rank': 1,\n",
       "  'Quality of Education Rank': 2,\n",
       "  'Alumni Employment Rank': 1,\n",
       "  'Quality of Faculty Rank': 1,\n",
       "  'Research Performance Rank': 1,\n",
       "  'Score': 100.0},\n",
       " {'Year': '2019-2020',\n",
       "  'World Rank': 2,\n",
       "  'Institution': 'Massachusetts Institute of Technology',\n",
       "  'Country': 'USA',\n",
       "  'National Rank': 2,\n",
       "  'Quality of Education Rank': 1,\n",
       "  'Alumni Employment Rank': 10,\n",
       "  'Quality of Faculty Rank': 2,\n",
       "  'Research Performance Rank': 5,\n",
       "  'Score': 96.7},\n",
       " {'Year': '2019-2020',\n",
       "  'World Rank': 3,\n",
       "  'Institution': 'Stanford University',\n",
       "  'Country': 'USA',\n",
       "  'National Rank': 3,\n",
       "  'Quality of Education Rank': 9,\n",
       "  'Alumni Employment Rank': 3,\n",
       "  'Quality of Faculty Rank': 3,\n",
       "  'Research Performance Rank': 2,\n",
       "  'Score': 95.2},\n",
       " {'Year': '2019-2020',\n",
       "  'World Rank': 4,\n",
       "  'Institution': 'University of Cambridge',\n",
       "  'Country': 'United Kingdom',\n",
       "  'National Rank': 1,\n",
       "  'Quality of Education Rank': 4,\n",
       "  'Alumni Employment Rank': 19,\n",
       "  'Quality of Faculty Rank': 5,\n",
       "  'Research Performance Rank': 11,\n",
       "  'Score': 94.1},\n",
       " {'Year': '2019-2020',\n",
       "  'World Rank': 5,\n",
       "  'Institution': 'University of Oxford',\n",
       "  'Country': 'United Kingdom',\n",
       "  'National Rank': 2,\n",
       "  'Quality of Education Rank': 10,\n",
       "  'Alumni Employment Rank': 24,\n",
       "  'Quality of Faculty Rank': 10,\n",
       "  'Research Performance Rank': 4,\n",
       "  'Score': 93.3}]"
      ]
     },
     "execution_count": 70,
     "metadata": {},
     "output_type": "execute_result"
    }
   ],
   "source": [
    "rankings_2019_top_5 = parse_html(\"2019-2020.html\")[:5]\n",
    "rankings_2019_top_5"
   ]
  },
  {
   "cell_type": "code",
   "execution_count": 71,
   "id": "2065883f",
   "metadata": {
    "deletable": false,
    "editable": false
   },
   "outputs": [
    {
     "data": {
      "text/html": [
       "<p><strong><pre style='display: inline;'>q19</pre></strong> passed!</p>"
      ],
      "text/plain": [
       "q19 results: All test cases passed!"
      ]
     },
     "execution_count": 71,
     "metadata": {},
     "output_type": "execute_result"
    }
   ],
   "source": [
    "grader.check(\"q19\")"
   ]
  },
  {
   "cell_type": "markdown",
   "id": "58bdf997",
   "metadata": {
    "deletable": false,
    "editable": false
   },
   "source": [
    "**Question 20:** Parse the contents of the **three** files `2019-2020.html`, `2020-2021.html`, and `2021-2022.html` and combine them to create a **single** file named `my_rankings.json`.\n",
    "\n",
    "You **must** create a **file** named `my_rankings.json` in your current directory. The contents of this file **must** be **identical** to `rankings.json`.\n",
    "\n",
    "**Hints:**\n",
    "1. Using the logic from the question above, combine the data from these three files into a single list of dicts, and write it into the file `\"my_rankings.json\"`.\n",
    "2. You can use the `write_json` function that was introduced in lecture."
   ]
  },
  {
   "cell_type": "code",
   "execution_count": 72,
   "id": "3c82d4c9",
   "metadata": {
    "tags": []
   },
   "outputs": [],
   "source": [
    "# the 'write_json' function from lecture has been provided for you here\n",
    "def write_json(path, data):\n",
    "    with open(path, 'w', encoding = \"utf-8\") as f:\n",
    "        json.dump(data, f, indent = 2)"
   ]
  },
  {
   "cell_type": "code",
   "execution_count": 73,
   "id": "8cd7c751",
   "metadata": {
    "tags": []
   },
   "outputs": [],
   "source": [
    "# parse the three files and write the contents into 'my_rankings.json'\n",
    "all_rankings = []\n",
    "\n",
    "rankings_2019_2020 = parse_html(\"2019-2020.html\")\n",
    "rankings_2020_2021 = parse_html(\"2020-2021.html\")\n",
    "rankings_2021_2022 = parse_html(\"2021-2022.html\")\n",
    "\n",
    "all_rankings.extend(rankings_2019_2020)\n",
    "all_rankings.extend(rankings_2020_2021)\n",
    "all_rankings.extend(rankings_2021_2022)\n",
    "\n",
    "write_json(\"my_rankings.json\", all_rankings)"
   ]
  },
  {
   "cell_type": "code",
   "execution_count": 74,
   "id": "44cc1acc",
   "metadata": {
    "deletable": false,
    "editable": false
   },
   "outputs": [
    {
     "data": {
      "text/html": [
       "<p><strong><pre style='display: inline;'>q20</pre></strong> passed!</p>"
      ],
      "text/plain": [
       "q20 results: All test cases passed!"
      ]
     },
     "execution_count": 74,
     "metadata": {},
     "output_type": "execute_result"
    }
   ],
   "source": [
    "grader.check(\"q20\")"
   ]
  },
  {
   "cell_type": "markdown",
   "id": "fa9d9c14",
   "metadata": {
    "deletable": false,
    "editable": false
   },
   "source": [
    "## Submission\n",
    "Make sure you have run all cells in your notebook in order before running the following cells, so that all images/graphs appear in the output.\n",
    "It is recommended that at this stage, you Restart and Run all Cells in your notebook.\n",
    "That will automatically save your work and generate a zip file for you to submit.\n",
    "\n",
    "If the last cell fails to run because of the file size, delete the images that we have provided in this notebook as examples, and run the last cell again.\n",
    "\n",
    "**SUBMISSION INSTRUCTIONS**:\n",
    "1. **Upload** the zipfile to Gradescope.\n",
    "2. Check **Gradescope otter** results as soon as the auto-grader execution gets completed. Don't worry about the score showing up as -/100.0. You only need to check that the test cases passed."
   ]
  },
  {
   "cell_type": "code",
   "execution_count": 75,
   "id": "5c93ac6a",
   "metadata": {
    "cell_type": "code",
    "deletable": false,
    "editable": false
   },
   "outputs": [
    {
     "data": {
      "application/javascript": [
       "IPython.notebook.save_checkpoint();"
      ],
      "text/plain": [
       "<IPython.core.display.Javascript object>"
      ]
     },
     "metadata": {},
     "output_type": "display_data"
    }
   ],
   "source": [
    "# running this cell will create a new save checkpoint for your notebook\n",
    "from IPython.display import display, Javascript\n",
    "display(Javascript('IPython.notebook.save_checkpoint();'))"
   ]
  },
  {
   "cell_type": "code",
   "execution_count": 76,
   "id": "4c3136f8",
   "metadata": {
    "cell_type": "code",
    "deletable": false,
    "editable": false
   },
   "outputs": [
    {
     "name": "stdout",
     "output_type": "stream",
     "text": [
      "[jupytext] Reading p12.ipynb in format ipynb\n",
      "[jupytext] Writing p12.py\n"
     ]
    }
   ],
   "source": [
    "!jupytext --to py p12.ipynb"
   ]
  },
  {
   "cell_type": "code",
   "execution_count": 77,
   "id": "2160b0c8",
   "metadata": {
    "cell_type": "code",
    "deletable": false,
    "editable": false
   },
   "outputs": [
    {
     "name": "stdout",
     "output_type": "stream",
     "text": [
      "Running your submission against local test cases...\n",
      "\n",
      "Your submission received the following results when run against available test cases:\n",
      "\n",
      "    q1 results: All test cases passed!\n",
      "\n",
      "    q2 results: All test cases passed!\n",
      "\n",
      "    q3 results: All test cases passed!\n",
      "\n",
      "    q4 results: All test cases passed!\n",
      "\n",
      "    q5 results: All test cases passed!\n",
      "\n",
      "    q6 results: All test cases passed!\n",
      "\n",
      "    q7 results: All test cases passed!\n",
      "\n",
      "    q8 results: All test cases passed!\n",
      "\n",
      "    q9 results: All test cases passed!\n",
      "\n",
      "    q10 results: All test cases passed!\n",
      "\n",
      "    q11 results: All test cases passed!\n",
      "\n",
      "    institutions_df results: All test cases passed!\n",
      "\n",
      "    q12 results: All test cases passed!\n",
      "\n",
      "    q13 results: All test cases passed!\n",
      "\n",
      "    q14 results: All test cases passed!\n",
      "\n",
      "    q15 results: All test cases passed!\n",
      "\n",
      "    q16 results: All test cases passed!\n",
      "\n",
      "    q17 results: All test cases passed!\n",
      "\n",
      "    q18 results: All test cases passed!\n",
      "\n",
      "    q19 results: All test cases passed!\n",
      "\n",
      "    q20 results: All test cases passed!\n"
     ]
    },
    {
     "data": {
      "text/html": [
       "\n",
       "            <p>Your submission has been exported. Click <a href=\"p12_2022_12_05T16_42_07_832145.zip\" download=\"p12_2022_12_05T16_42_07_832145.zip\" target=\"_blank\">here</a>\n",
       "            to download the zip file.</p>\n",
       "            "
      ],
      "text/plain": [
       "<IPython.core.display.HTML object>"
      ]
     },
     "metadata": {},
     "output_type": "display_data"
    }
   ],
   "source": [
    "p12_test.check_file_size(\"p12.ipynb\")\n",
    "grader.export(pdf=False, run_tests=True, files=[py_filename])"
   ]
  },
  {
   "cell_type": "markdown",
   "id": "73d64995",
   "metadata": {
    "deletable": false,
    "editable": false
   },
   "source": [
    " "
   ]
  }
 ],
 "metadata": {
  "kernelspec": {
   "display_name": "Python 3 (ipykernel)",
   "language": "python",
   "name": "python3"
  },
  "language_info": {
   "codemirror_mode": {
    "name": "ipython",
    "version": 3
   },
   "file_extension": ".py",
   "mimetype": "text/x-python",
   "name": "python",
   "nbconvert_exporter": "python",
   "pygments_lexer": "ipython3",
   "version": "3.9.12"
  },
  "otter": {
   "OK_FORMAT": true,
   "tests": {
    "institutions_df": {
     "name": "institutions_df",
     "points": 0,
     "suites": [
      {
       "cases": [
        {
         "code": ">>> p12_test.check(\"qinstitutions_df\", institutions_df.set_index('Institution').to_html())\nTrue",
         "hidden": false,
         "locked": false
        }
       ],
       "scored": true,
       "setup": "",
       "teardown": "",
       "type": "doctest"
      }
     ]
    },
    "q1": {
     "name": "q1",
     "points": 5,
     "suites": [
      {
       "cases": [
        {
         "code": ">>> p12_test.check(\"q1\", num_countries)\nTrue",
         "hidden": false,
         "locked": false
        }
       ],
       "scored": true,
       "setup": "",
       "teardown": "",
       "type": "doctest"
      }
     ]
    },
    "q10": {
     "name": "q10",
     "points": 5,
     "suites": [
      {
       "cases": [
        {
         "code": ">>> p12_test.check(\"q10\", india_highest_research)\nTrue",
         "hidden": false,
         "locked": false
        }
       ],
       "scored": true,
       "setup": "",
       "teardown": "",
       "type": "doctest"
      }
     ]
    },
    "q11": {
     "name": "q11",
     "points": 5,
     "suites": [
      {
       "cases": [
        {
         "code": ">>> p12_test.check(\"q11\", num_institutions_2019_2020_2021)\nTrue",
         "hidden": false,
         "locked": false
        }
       ],
       "scored": true,
       "setup": "",
       "teardown": "",
       "type": "doctest"
      }
     ]
    },
    "q12": {
     "name": "q12",
     "points": 5,
     "suites": [
      {
       "cases": [
        {
         "code": ">>> p12_test.check(\"q12\", improved_institutions)\nTrue",
         "hidden": false,
         "locked": false
        }
       ],
       "scored": true,
       "setup": "",
       "teardown": "",
       "type": "doctest"
      }
     ]
    },
    "q13": {
     "name": "q13",
     "points": 5,
     "suites": [
      {
       "cases": [
        {
         "code": ">>> p12_test.check(\"q13\", most_change_inst)\nTrue",
         "hidden": false,
         "locked": false
        }
       ],
       "scored": true,
       "setup": "",
       "teardown": "",
       "type": "doctest"
      }
     ]
    },
    "q14": {
     "name": "q14",
     "points": 5,
     "suites": [
      {
       "cases": [
        {
         "code": ">>> p12_test.check(\"q14\", strictly_improved)\nTrue",
         "hidden": false,
         "locked": false
        }
       ],
       "scored": true,
       "setup": "",
       "teardown": "",
       "type": "doctest"
      }
     ]
    },
    "q15": {
     "name": "q15",
     "points": 5,
     "suites": [
      {
       "cases": [
        {
         "code": ">>> p12_test.check(\"q15\", top_only_aer)\nTrue",
         "hidden": false,
         "locked": false
        }
       ],
       "scored": true,
       "setup": "",
       "teardown": "",
       "type": "doctest"
      }
     ]
    },
    "q16": {
     "name": "q16",
     "points": 5,
     "suites": [
      {
       "cases": [
        {
         "code": ">>> p12_test.check(\"q16\", top_only_2019)\nTrue",
         "hidden": false,
         "locked": false
        }
       ],
       "scored": true,
       "setup": "",
       "teardown": "",
       "type": "doctest"
      }
     ]
    },
    "q17": {
     "name": "q17",
     "points": 5,
     "suites": [
      {
       "cases": [
        {
         "code": ">>> p12_test.check(\"q17\", top_countries)\nTrue",
         "hidden": false,
         "locked": false
        }
       ],
       "scored": true,
       "setup": "",
       "teardown": "",
       "type": "doctest"
      }
     ]
    },
    "q18": {
     "name": "q18",
     "points": 5,
     "suites": [
      {
       "cases": [
        {
         "code": ">>> p12_test.check(\"q18\", header)\nTrue",
         "hidden": false,
         "locked": false
        }
       ],
       "scored": true,
       "setup": "",
       "teardown": "",
       "type": "doctest"
      }
     ]
    },
    "q19": {
     "name": "q19",
     "points": 5,
     "suites": [
      {
       "cases": [
        {
         "code": ">>> p12_test.check(\"q19\", rankings_2019_top_5)\nTrue",
         "hidden": false,
         "locked": false
        }
       ],
       "scored": true,
       "setup": "",
       "teardown": "",
       "type": "doctest"
      }
     ]
    },
    "q2": {
     "name": "q2",
     "points": 5,
     "suites": [
      {
       "cases": [
        {
         "code": ">>> p12_test.check(\"q2\", highest_ranked.to_html())\nTrue",
         "hidden": false,
         "locked": false
        }
       ],
       "scored": true,
       "setup": "",
       "teardown": "",
       "type": "doctest"
      }
     ]
    },
    "q20": {
     "name": "q20",
     "points": 5,
     "suites": [
      {
       "cases": [
        {
         "code": ">>> p12_test.check(\"q20\", \"my_rankings.json\")\nTrue",
         "hidden": false,
         "locked": false
        }
       ],
       "scored": true,
       "setup": "",
       "teardown": "",
       "type": "doctest"
      }
     ]
    },
    "q3": {
     "name": "q3",
     "points": 5,
     "suites": [
      {
       "cases": [
        {
         "code": ">>> p12_test.check(\"q3\", uw_madison.to_html())\nTrue",
         "hidden": false,
         "locked": false
        }
       ],
       "scored": true,
       "setup": "",
       "teardown": "",
       "type": "doctest"
      }
     ]
    },
    "q4": {
     "name": "q4",
     "points": 5,
     "suites": [
      {
       "cases": [
        {
         "code": ">>> p12_test.check(\"q4\", uw_madison_nat_rank)\nTrue",
         "hidden": false,
         "locked": false
        }
       ],
       "scored": true,
       "setup": "",
       "teardown": "",
       "type": "doctest"
      }
     ]
    },
    "q5": {
     "name": "q5",
     "points": 5,
     "suites": [
      {
       "cases": [
        {
         "code": ">>> p12_test.check(\"q5\", uw_madison_avg_score)\nTrue",
         "hidden": false,
         "locked": false
        }
       ],
       "scored": true,
       "setup": "",
       "teardown": "",
       "type": "doctest"
      }
     ]
    },
    "q6": {
     "name": "q6",
     "points": 5,
     "suites": [
      {
       "cases": [
        {
         "code": ">>> p12_test.check(\"q6\", singapore_inst.to_html())\nTrue",
         "hidden": false,
         "locked": false
        }
       ],
       "scored": true,
       "setup": "",
       "teardown": "",
       "type": "doctest"
      }
     ]
    },
    "q7": {
     "name": "q7",
     "points": 5,
     "suites": [
      {
       "cases": [
        {
         "code": ">>> p12_test.check(\"q7\", german_best_name)\nTrue",
         "hidden": false,
         "locked": false
        }
       ],
       "scored": true,
       "setup": "",
       "teardown": "",
       "type": "doctest"
      }
     ]
    },
    "q8": {
     "name": "q8",
     "points": 5,
     "suites": [
      {
       "cases": [
        {
         "code": ">>> p12_test.check(\"q8\", us_better_than_german_best)\nTrue",
         "hidden": false,
         "locked": false
        }
       ],
       "scored": true,
       "setup": "",
       "teardown": "",
       "type": "doctest"
      }
     ]
    },
    "q9": {
     "name": "q9",
     "points": 5,
     "suites": [
      {
       "cases": [
        {
         "code": ">>> p12_test.check(\"q9\", china_highest_qoe)\nTrue",
         "hidden": false,
         "locked": false
        }
       ],
       "scored": true,
       "setup": "",
       "teardown": "",
       "type": "doctest"
      }
     ]
    }
   }
  }
 },
 "nbformat": 4,
 "nbformat_minor": 5
}
